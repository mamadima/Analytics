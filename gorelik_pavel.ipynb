{
 "cells": [
  {
   "cell_type": "markdown",
   "metadata": {
    "id": "YX8H43RWqrUO"
   },
   "source": [
    "#Тестовое задание для аналитиков-стажеров / Сравни"
   ]
  },
  {
   "cell_type": "code",
   "execution_count": 179,
   "metadata": {
    "colab": {
     "base_uri": "https://localhost:8080/"
    },
    "id": "U9nzjjwCtXYy",
    "outputId": "da19d7bc-99fd-4878-f5f4-661bf92b0b18"
   },
   "outputs": [
    {
     "name": "stdout",
     "output_type": "stream",
     "text": [
      "Requirement already satisfied: pandasql in c:\\users\\home\\anaconda3\\lib\\site-packages (0.7.3)\n",
      "Requirement already satisfied: numpy in c:\\users\\home\\anaconda3\\lib\\site-packages (from pandasql) (1.26.4)\n",
      "Requirement already satisfied: pandas in c:\\users\\home\\anaconda3\\lib\\site-packages (from pandasql) (2.1.4)\n",
      "Requirement already satisfied: sqlalchemy in c:\\users\\home\\anaconda3\\lib\\site-packages (from pandasql) (1.4.46)\n",
      "Requirement already satisfied: python-dateutil>=2.8.2 in c:\\users\\home\\anaconda3\\lib\\site-packages (from pandas->pandasql) (2.8.2)\n",
      "Requirement already satisfied: pytz>=2020.1 in c:\\users\\home\\anaconda3\\lib\\site-packages (from pandas->pandasql) (2023.3.post1)\n",
      "Requirement already satisfied: tzdata>=2022.1 in c:\\users\\home\\anaconda3\\lib\\site-packages (from pandas->pandasql) (2023.3)\n",
      "Requirement already satisfied: greenlet!=0.4.17 in c:\\users\\home\\anaconda3\\lib\\site-packages (from sqlalchemy->pandasql) (3.0.1)\n",
      "Requirement already satisfied: six>=1.5 in c:\\users\\home\\anaconda3\\lib\\site-packages (from python-dateutil>=2.8.2->pandas->pandasql) (1.16.0)\n",
      "Requirement already satisfied: sqlalchemy==1.4.46 in c:\\users\\home\\anaconda3\\lib\\site-packages (1.4.46)\n",
      "Requirement already satisfied: greenlet!=0.4.17 in c:\\users\\home\\anaconda3\\lib\\site-packages (from sqlalchemy==1.4.46) (3.0.1)\n"
     ]
    }
   ],
   "source": [
    "# Необходимые библиотеки\n",
    "! pip install pandasql\n",
    "! pip install sqlalchemy==1.4.46"
   ]
  },
  {
   "cell_type": "code",
   "execution_count": 180,
   "metadata": {
    "id": "uyVBdGOEtv5f"
   },
   "outputs": [],
   "source": [
    "import pandas as pd\n",
    "from pandasql import sqldf"
   ]
  },
  {
   "cell_type": "markdown",
   "metadata": {
    "id": "jW1Xmic8sgii"
   },
   "source": [
    "**Важно:**\n",
    "\n",
    "Задания на SQL (1 и 2) выполняются с использованием синтаксиса SQLite внутри Google Colab. [Ссылка](https://www.sqlite.org/lang.html) на документацию.\n",
    "\n",
    "Но при желании вы можете выполнить эти задания с использованием любого удобного вам диалекта SQL. В данном случае вы самостоятельно выбираете где будете проверять скрипты, будете или нет нагонять туда какие-либо тестовые данные, от вас нам нужен только сам SQL запрос. Обязательно укажите диалект который вы используете."
   ]
  },
  {
   "cell_type": "markdown",
   "metadata": {
    "id": "vewK62mItEs_"
   },
   "source": [
    "## Задача 1 (SQL): Исследование данных E-commerce"
   ]
  },
  {
   "cell_type": "markdown",
   "metadata": {
    "id": "JdbPcosetL2k"
   },
   "source": [
    "### Описание задачи"
   ]
  },
  {
   "cell_type": "markdown",
   "metadata": {
    "id": "ARtQX8FGq2Mr"
   },
   "source": [
    "\n",
    "\n",
    "---\n",
    "\n",
    "\n",
    "\n",
    "**Задача:** Сформировать таблицу сессий пользователей из таблицы событий.\n",
    "\n",
    "**Сессия** – набор последовательных событий по одному пользователю.\n",
    "\n",
    "Событие считается первым в сессии если выполняется любое из условий:\n",
    "\n",
    "1. Это событие - session_start\n",
    "2. Предыдущие событие - session_end\n",
    "3. От предыдущего события прошло более 30 минут\n",
    "4. Наступил новый календарный день\n",
    "5. Это первое событие пользователя за все время\n",
    "\n",
    "\n",
    "\n",
    "\n",
    "\n",
    "Необходимо написать SQL-запрос, который создаст таблицу сессий пользователей.\n",
    "\n",
    "Таблица должна состоять из следующих полей:\n",
    "1. `SESSION_ID` – уникальный идентификатор сессии\n",
    "2. `SESSION_START_DTM` – дата и время начала сессии\n",
    "3. `SESSION_END_DTM` – дата и время конца сессии\n",
    "4. `USER_ID` – идентификатор пользователя\n",
    "5. `SESSION_NUMBER` – порядковый номер сессии для данного пользователя\n",
    "6. `IS_CLIENT` – поле, которое обозначает, является ли пользователь клиентом *(пользователь является клиентом, если за всю историю у него было хотя бы одно событие purchase, не важно в рамках текущей сессии или нет)*\n",
    "\n",
    "\n",
    "\n",
    "**Дополнительно:** сессия не может состоять только из событий session_start и session_end, такие сессии не должны попасть в результирующую таблицу и не учитываются при формировании поля SESSION_NUMBER.\n",
    "\n",
    "\n",
    "\n",
    "---\n",
    "\n"
   ]
  },
  {
   "cell_type": "markdown",
   "metadata": {
    "id": "6gmBMGf0rINj"
   },
   "source": [
    "**Схема данных таблицы EVENTS**\n",
    "\n",
    "![image.png](data:image/png;base64,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)"
   ]
  },
  {
   "cell_type": "markdown",
   "metadata": {
    "id": "SDoxNlWCu4NM"
   },
   "source": [
    "### Решение\n",
    "\n",
    "В виде ответа на задачу необходимо прикрепить файл `result_task_1.txt` с итоговым SQL запросом в GoogleForms."
   ]
  },
  {
   "cell_type": "code",
   "execution_count": 181,
   "metadata": {
    "colab": {
     "base_uri": "https://localhost:8080/",
     "height": 206
    },
    "id": "IbLDbxMdviQr",
    "outputId": "c7ff88c8-34a4-41f1-ff00-326864f093d0"
   },
   "outputs": [
    {
     "data": {
      "text/html": [
       "<div>\n",
       "<style scoped>\n",
       "    .dataframe tbody tr th:only-of-type {\n",
       "        vertical-align: middle;\n",
       "    }\n",
       "\n",
       "    .dataframe tbody tr th {\n",
       "        vertical-align: top;\n",
       "    }\n",
       "\n",
       "    .dataframe thead th {\n",
       "        text-align: right;\n",
       "    }\n",
       "</style>\n",
       "<table border=\"1\" class=\"dataframe\">\n",
       "  <thead>\n",
       "    <tr style=\"text-align: right;\">\n",
       "      <th></th>\n",
       "      <th>USER_ID</th>\n",
       "      <th>EVENT_DTM</th>\n",
       "      <th>EVENT_NAME</th>\n",
       "    </tr>\n",
       "  </thead>\n",
       "  <tbody>\n",
       "    <tr>\n",
       "      <th>0</th>\n",
       "      <td>921021</td>\n",
       "      <td>2023-12-01 00:13:07.000000000</td>\n",
       "      <td>event</td>\n",
       "    </tr>\n",
       "    <tr>\n",
       "      <th>1</th>\n",
       "      <td>921021</td>\n",
       "      <td>2023-12-01 00:13:08.000000000</td>\n",
       "      <td>event</td>\n",
       "    </tr>\n",
       "    <tr>\n",
       "      <th>2</th>\n",
       "      <td>193576</td>\n",
       "      <td>2023-12-01 00:13:33.000000000</td>\n",
       "      <td>event</td>\n",
       "    </tr>\n",
       "    <tr>\n",
       "      <th>3</th>\n",
       "      <td>193576</td>\n",
       "      <td>2023-12-01 00:13:34.000000000</td>\n",
       "      <td>event</td>\n",
       "    </tr>\n",
       "    <tr>\n",
       "      <th>4</th>\n",
       "      <td>921021</td>\n",
       "      <td>2023-12-01 00:17:07.000000000</td>\n",
       "      <td>event</td>\n",
       "    </tr>\n",
       "  </tbody>\n",
       "</table>\n",
       "</div>"
      ],
      "text/plain": [
       "   USER_ID                      EVENT_DTM EVENT_NAME\n",
       "0   921021  2023-12-01 00:13:07.000000000      event\n",
       "1   921021  2023-12-01 00:13:08.000000000      event\n",
       "2   193576  2023-12-01 00:13:33.000000000      event\n",
       "3   193576  2023-12-01 00:13:34.000000000      event\n",
       "4   921021  2023-12-01 00:17:07.000000000      event"
      ]
     },
     "execution_count": 181,
     "metadata": {},
     "output_type": "execute_result"
    }
   ],
   "source": [
    "# Загружаем данные\n",
    "# (регистр названия DataFrame важен в SQL запросе)\n",
    "\n",
    "events = pd.read_csv('events.csv')\n",
    "events.head()"
   ]
  },
  {
   "cell_type": "code",
   "execution_count": 182,
   "metadata": {
    "colab": {
     "base_uri": "https://localhost:8080/",
     "height": 206
    },
    "id": "a0QrCpg8qeky",
    "outputId": "2da38912-23ac-4e85-ab73-6becc2a48d04"
   },
   "outputs": [
    {
     "data": {
      "text/html": [
       "<div>\n",
       "<style scoped>\n",
       "    .dataframe tbody tr th:only-of-type {\n",
       "        vertical-align: middle;\n",
       "    }\n",
       "\n",
       "    .dataframe tbody tr th {\n",
       "        vertical-align: top;\n",
       "    }\n",
       "\n",
       "    .dataframe thead th {\n",
       "        text-align: right;\n",
       "    }\n",
       "</style>\n",
       "<table border=\"1\" class=\"dataframe\">\n",
       "  <thead>\n",
       "    <tr style=\"text-align: right;\">\n",
       "      <th></th>\n",
       "      <th>SESSION_ID</th>\n",
       "      <th>SESSION_START_DTM</th>\n",
       "      <th>SESSION_END_DTM</th>\n",
       "      <th>USER_ID</th>\n",
       "      <th>SESSION_NUMBER</th>\n",
       "      <th>IS_CLIENT</th>\n",
       "    </tr>\n",
       "  </thead>\n",
       "  <tbody>\n",
       "    <tr>\n",
       "      <th>0</th>\n",
       "      <td>1</td>\n",
       "      <td>2023-12-01 00:13:07.000000000</td>\n",
       "      <td>2023-12-01 00:21:26.000000000</td>\n",
       "      <td>921021</td>\n",
       "      <td>1</td>\n",
       "      <td>1</td>\n",
       "    </tr>\n",
       "    <tr>\n",
       "      <th>1</th>\n",
       "      <td>2</td>\n",
       "      <td>2023-12-01 00:13:33.000000000</td>\n",
       "      <td>2023-12-01 00:31:08.000000000</td>\n",
       "      <td>193576</td>\n",
       "      <td>1</td>\n",
       "      <td>1</td>\n",
       "    </tr>\n",
       "    <tr>\n",
       "      <th>2</th>\n",
       "      <td>3</td>\n",
       "      <td>2023-12-01 00:31:09.000000000</td>\n",
       "      <td>2023-12-01 00:32:13.000000000</td>\n",
       "      <td>193576</td>\n",
       "      <td>2</td>\n",
       "      <td>1</td>\n",
       "    </tr>\n",
       "    <tr>\n",
       "      <th>3</th>\n",
       "      <td>4</td>\n",
       "      <td>2023-12-01 00:32:21.000000000</td>\n",
       "      <td>2023-12-01 00:33:22.000000000</td>\n",
       "      <td>193576</td>\n",
       "      <td>3</td>\n",
       "      <td>1</td>\n",
       "    </tr>\n",
       "    <tr>\n",
       "      <th>4</th>\n",
       "      <td>5</td>\n",
       "      <td>2023-12-01 00:33:24.000000000</td>\n",
       "      <td>2023-12-01 00:59:41.000000000</td>\n",
       "      <td>193576</td>\n",
       "      <td>4</td>\n",
       "      <td>1</td>\n",
       "    </tr>\n",
       "  </tbody>\n",
       "</table>\n",
       "</div>"
      ],
      "text/plain": [
       "   SESSION_ID              SESSION_START_DTM                SESSION_END_DTM  \\\n",
       "0           1  2023-12-01 00:13:07.000000000  2023-12-01 00:21:26.000000000   \n",
       "1           2  2023-12-01 00:13:33.000000000  2023-12-01 00:31:08.000000000   \n",
       "2           3  2023-12-01 00:31:09.000000000  2023-12-01 00:32:13.000000000   \n",
       "3           4  2023-12-01 00:32:21.000000000  2023-12-01 00:33:22.000000000   \n",
       "4           5  2023-12-01 00:33:24.000000000  2023-12-01 00:59:41.000000000   \n",
       "\n",
       "   USER_ID  SESSION_NUMBER  IS_CLIENT  \n",
       "0   921021               1          1  \n",
       "1   193576               1          1  \n",
       "2   193576               2          1  \n",
       "3   193576               3          1  \n",
       "4   193576               4          1  "
      ]
     },
     "execution_count": 182,
     "metadata": {},
     "output_type": "execute_result"
    }
   ],
   "source": [
    "with open('result_task_1.txt', 'r') as file:\n",
    "    # Читаем содержимое файла\n",
    "    query = file.read()\n",
    "\n",
    "# Сохраняем результат SQL запроса в pandas DataFrame\n",
    "result_task_1 = sqldf(query, globals())\n",
    "result_task_1.head()"
   ]
  },
  {
   "cell_type": "markdown",
   "metadata": {
    "id": "rnTrftTtxTHT"
   },
   "source": [
    "## Задача 2 (SQL): Исследование данных Retail"
   ]
  },
  {
   "cell_type": "markdown",
   "metadata": {
    "id": "fbyKJjsQxWO2"
   },
   "source": [
    "### Описание задачи"
   ]
  },
  {
   "cell_type": "markdown",
   "metadata": {
    "id": "tShRIj9tyVNU"
   },
   "source": [
    "Представь, что ты работаешь в retail компании, тебе предоставили доступ к данным компании с информацией о продажах товаров, пользователях компании, ассортименте продуктов, а также о магазинах сети. Общая схема данных выглядит следующим образом:"
   ]
  },
  {
   "cell_type": "markdown",
   "metadata": {
    "id": "d9HzsexgyRvD"
   },
   "source": [
    "#### Схема базы данных"
   ]
  },
  {
   "cell_type": "markdown",
   "metadata": {
    "id": "pPKfBh4SxYLD"
   },
   "source": [
    "![image.png](data:image/png;base64,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)"
   ]
  },
  {
   "cell_type": "markdown",
   "metadata": {
    "id": "YDveaxqayhZV"
   },
   "source": [
    "#### Описание базы данных\n"
   ]
  },
  {
   "cell_type": "markdown",
   "metadata": {
    "id": "raUZFb8UyGx1"
   },
   "source": [
    "---\n",
    "\n",
    "\n",
    "\n",
    "1) **orders** - таблица с информацией о созданных заказах:\n",
    "\n",
    "* `orders.order_id`: идентификатор заказа (уникальный ключ таблицы)\n",
    "* `orders.order_date`: дата создания заказа\n",
    "* `orders.user_id`: идентификатор пользователя, создавшего заказ\n",
    "* `orders.store_id`: идентификатор магазина, в котором был создан заказ\n",
    "* `orders.product_info`: массив, содержащий json-объекты с информацией о товарах в заказе, вида:\n",
    "  * `product_id` - идентификатор товара в заказе\n",
    "  * `product_price` - цена товара\n",
    "  * `product_commission` - комиссия за товар, учитываемая как прибыль за данный товар, получаемая компанией\n",
    "  * `commission_is_percent` - флаг того, что комиссия является процентом от стоимости товара (True), либо фиксированным значением (False)\n",
    "  * `count` - кол-во единиц данного продукта в заказе\n",
    "\n",
    "**Вид массива:**\n",
    "\n",
    "[\n",
    "\n",
    "{\"product_id\":1, \"product_price\":1500, \"product commission\":70, \"commission_is_percent\":True, \"count\":2},\n",
    "{\"product_id\":2, \"product_price\":2000, \"product commission\":1000, \"commission_is_percent\":False, \"count\":1},...\n",
    "\n",
    "]\n",
    "\n",
    "\n",
    "\n",
    "---\n",
    "\n",
    "\n",
    "\n",
    "2) **sales** - таблица с информацией о продажах (совершенных платежах).\n",
    "Возможные следующие случаи:\n",
    "1. Если поле is_accepted=True и is_canceled=False, то произошел платеж по товару в заказе.\n",
    "2. Если поле is_accepted=False и is_canceled=False, то произошло создание платежа по товару, но его еще не оплатили и не отменили.\n",
    "3. Если поле is_accepted=True и is_canceled=True, то произошел возврат товара по заказу, а товар ранее был оплачен. Клиенту вернется сумма платежа.\n",
    "4. Если поле is_accepted=False и is_canceled=True, то произошла отмена товара, который ранее не оплачивали.\n",
    "(если статус платежа по товару меняется, то не создается новая запись в БД, а меняются поля (is_accepted, is_canceled ) в текущей записи).\n",
    "\n",
    "**Состав таблицы:**\n",
    "\n",
    "* `sales.id`: идентификатор продажи (уникальный ключ таблицы)\n",
    "* `sales.purchase_date`: дата продажи\n",
    "* `sales.order_id`: идентификатор заказа из таблицы orders, на который приходится продажа (на один заказ может быть несколько товаров, и соответственно, несколько продаж)\n",
    "* `sales.product_id`: идентификатор товара в заказе\n",
    "* `sales.is_accepted`: флаг подтверждения платежа\n",
    "* `sales.is_canceled`: флаг подтверждения отмены платежа\n",
    "\n",
    "\n",
    "---\n",
    "\n",
    "3) **user** - таблица с информацией о клиентах:\n",
    "\n",
    "* `user.user_id`: идентификатор пользователя (уникальный ключ таблицы)\n",
    "* `user.user_name`: ФИО клиента\n",
    "* `user.user_registration_address`: адрес регистрации клиента (страна/город/адрес)\n",
    "* `user.user_phone`: телефон клиента\n",
    "* `user.user_email`: почта клиента\n",
    "* `user.user_status`: статус клиента\n",
    "\n",
    "\n",
    "---\n",
    "\n",
    "\n",
    "4) **store** - таблица с информацией о магазинах:\n",
    "\n",
    "* `store.store_id`: идентификатор магазина (уникальный ключ таблицы)\n",
    "* `store.store_latitude`: долгота магазина (географическая координата)\n",
    "* `store.store_longtitude`: широта магазина (географическая координата)\n",
    "* `store.store_name`: название магазина\n",
    "* `store.store_open_date`: дата открытия магазина\n",
    "* `store.store_close_date`: дата закрытия магазина\n",
    "\n",
    "\n",
    "\n",
    "---\n",
    "\n",
    "5) **product** - таблица с информацией о товарах:\n",
    "\n",
    "* `product.product_id:`: идентификатор товара (уникальный ключ таблицы)\n",
    "* `product.product_name`: название товара\n",
    "* `product.product_size`: размер товара\n",
    "* `product.product_color`: цвет товара\n",
    "\n",
    "\n",
    "---\n",
    "\n"
   ]
  },
  {
   "cell_type": "markdown",
   "metadata": {
    "id": "25fuZplf3nXy"
   },
   "source": [
    "#### Постановка задачи"
   ]
  },
  {
   "cell_type": "markdown",
   "metadata": {
    "id": "5ayK-D5J32W1"
   },
   "source": [
    "Необходимо создать таблицу агрегированную по пользователям и  выкупленными заказами (в заказах учитывать только выкупленные товары по которым не было возврата).\n",
    "\n",
    "\n",
    "\n",
    "* `USER_ID` - идентификатор пользователя\n",
    "* `ORDER_ID` - идентификатор заказа\n",
    "* `ORDER_DATE` - дата создания заказа\n",
    "* `ORDER_SUM` - сумма заказа\n",
    "* `ORDER_REVENUE` - выручка с заказа\n",
    "* `ORDER_QUANTITY` - суммарное кол-во товаров в заказе\n",
    "* `ORDER_UNIQUE_PRODUCTS` - кол-во уникальных товаров в заказе (по product_id)\n"
   ]
  },
  {
   "cell_type": "markdown",
   "metadata": {
    "id": "IJKvr5VW27fy"
   },
   "source": [
    "### Решение\n",
    "\n",
    "В виде ответа на задачу необходимо прикрепить файл result_task_2.txt с итоговым SQL запросом в GoogleForms."
   ]
  },
  {
   "cell_type": "code",
   "execution_count": 183,
   "metadata": {
    "colab": {
     "base_uri": "https://localhost:8080/",
     "height": 211
    },
    "id": "uoHGAyL1xVmg",
    "outputId": "28ecc5a8-ac92-4107-c337-f07a433d3308"
   },
   "outputs": [
    {
     "data": {
      "text/html": [
       "<div>\n",
       "<style scoped>\n",
       "    .dataframe tbody tr th:only-of-type {\n",
       "        vertical-align: middle;\n",
       "    }\n",
       "\n",
       "    .dataframe tbody tr th {\n",
       "        vertical-align: top;\n",
       "    }\n",
       "\n",
       "    .dataframe thead th {\n",
       "        text-align: right;\n",
       "    }\n",
       "</style>\n",
       "<table border=\"1\" class=\"dataframe\">\n",
       "  <thead>\n",
       "    <tr style=\"text-align: right;\">\n",
       "      <th></th>\n",
       "      <th>order_id</th>\n",
       "      <th>order_date</th>\n",
       "      <th>user_id</th>\n",
       "      <th>store_id</th>\n",
       "      <th>product_info</th>\n",
       "    </tr>\n",
       "  </thead>\n",
       "  <tbody>\n",
       "    <tr>\n",
       "      <th>1009995</th>\n",
       "      <td>1009996</td>\n",
       "      <td>2023-11-30</td>\n",
       "      <td>9966</td>\n",
       "      <td>15</td>\n",
       "      <td>[{'product_id': 138, 'product_price': 9948.590...</td>\n",
       "    </tr>\n",
       "    <tr>\n",
       "      <th>1009996</th>\n",
       "      <td>1009997</td>\n",
       "      <td>2023-11-30</td>\n",
       "      <td>9978</td>\n",
       "      <td>15</td>\n",
       "      <td>[{'product_id': 1389, 'product_price': 8984.21...</td>\n",
       "    </tr>\n",
       "    <tr>\n",
       "      <th>1009997</th>\n",
       "      <td>1009998</td>\n",
       "      <td>2023-11-30</td>\n",
       "      <td>9979</td>\n",
       "      <td>15</td>\n",
       "      <td>[{'product_id': 2341, 'product_price': 18336.8...</td>\n",
       "    </tr>\n",
       "    <tr>\n",
       "      <th>1009998</th>\n",
       "      <td>1009999</td>\n",
       "      <td>2023-11-30</td>\n",
       "      <td>9984</td>\n",
       "      <td>15</td>\n",
       "      <td>[{'product_id': 710, 'product_price': 9029.154...</td>\n",
       "    </tr>\n",
       "    <tr>\n",
       "      <th>1009999</th>\n",
       "      <td>1010000</td>\n",
       "      <td>2023-11-30</td>\n",
       "      <td>9995</td>\n",
       "      <td>15</td>\n",
       "      <td>[{'product_id': 3052, 'product_price': 24296.5...</td>\n",
       "    </tr>\n",
       "  </tbody>\n",
       "</table>\n",
       "</div>"
      ],
      "text/plain": [
       "         order_id  order_date  user_id  store_id  \\\n",
       "1009995   1009996  2023-11-30     9966        15   \n",
       "1009996   1009997  2023-11-30     9978        15   \n",
       "1009997   1009998  2023-11-30     9979        15   \n",
       "1009998   1009999  2023-11-30     9984        15   \n",
       "1009999   1010000  2023-11-30     9995        15   \n",
       "\n",
       "                                              product_info  \n",
       "1009995  [{'product_id': 138, 'product_price': 9948.590...  \n",
       "1009996  [{'product_id': 1389, 'product_price': 8984.21...  \n",
       "1009997  [{'product_id': 2341, 'product_price': 18336.8...  \n",
       "1009998  [{'product_id': 710, 'product_price': 9029.154...  \n",
       "1009999  [{'product_id': 3052, 'product_price': 24296.5...  "
      ]
     },
     "execution_count": 183,
     "metadata": {},
     "output_type": "execute_result"
    }
   ],
   "source": [
    "# Загружаем данные\n",
    "# (регистр названия DataFrame важен в SQL запросе)\n",
    "\n",
    "orders = pd.read_csv('orders.csv')\n",
    "sales = pd.read_csv('sales.csv')\n",
    "user = pd.read_csv('user.csv')\n",
    "store = pd.read_csv('store.csv')\n",
    "product = pd.read_csv('product.csv')\n",
    "\n",
    "orders.tail()"
   ]
  },
  {
   "cell_type": "code",
   "execution_count": 185,
   "metadata": {
    "colab": {
     "base_uri": "https://localhost:8080/",
     "height": 206
    },
    "id": "P3Sc6Nza3XFs",
    "outputId": "c73ead0e-587a-4eab-b364-efe7ae05def8"
   },
   "outputs": [
    {
     "data": {
      "text/html": [
       "<div>\n",
       "<style scoped>\n",
       "    .dataframe tbody tr th:only-of-type {\n",
       "        vertical-align: middle;\n",
       "    }\n",
       "\n",
       "    .dataframe tbody tr th {\n",
       "        vertical-align: top;\n",
       "    }\n",
       "\n",
       "    .dataframe thead th {\n",
       "        text-align: right;\n",
       "    }\n",
       "</style>\n",
       "<table border=\"1\" class=\"dataframe\">\n",
       "  <thead>\n",
       "    <tr style=\"text-align: right;\">\n",
       "      <th></th>\n",
       "      <th>USER_ID</th>\n",
       "      <th>ORDER_ID</th>\n",
       "      <th>ORDER_DATE</th>\n",
       "      <th>ORDER_SUM</th>\n",
       "      <th>ORDER_REVENUE</th>\n",
       "      <th>ORDER_QUANTITY</th>\n",
       "      <th>ORDER_UNIQUE_PRODUCTS</th>\n",
       "    </tr>\n",
       "  </thead>\n",
       "  <tbody>\n",
       "    <tr>\n",
       "      <th>0</th>\n",
       "      <td>1</td>\n",
       "      <td>6116</td>\n",
       "      <td>2022-03-11</td>\n",
       "      <td>11060.841781</td>\n",
       "      <td>3500</td>\n",
       "      <td>1</td>\n",
       "      <td>1</td>\n",
       "    </tr>\n",
       "    <tr>\n",
       "      <th>1</th>\n",
       "      <td>1</td>\n",
       "      <td>22551</td>\n",
       "      <td>2022-06-01</td>\n",
       "      <td>16349.124324</td>\n",
       "      <td>5000</td>\n",
       "      <td>1</td>\n",
       "      <td>1</td>\n",
       "    </tr>\n",
       "    <tr>\n",
       "      <th>2</th>\n",
       "      <td>1</td>\n",
       "      <td>42149</td>\n",
       "      <td>2022-08-04</td>\n",
       "      <td>9200.386361</td>\n",
       "      <td>2500</td>\n",
       "      <td>1</td>\n",
       "      <td>1</td>\n",
       "    </tr>\n",
       "    <tr>\n",
       "      <th>3</th>\n",
       "      <td>1</td>\n",
       "      <td>43677</td>\n",
       "      <td>2022-08-09</td>\n",
       "      <td>7131.358040</td>\n",
       "      <td>2500</td>\n",
       "      <td>1</td>\n",
       "      <td>1</td>\n",
       "    </tr>\n",
       "    <tr>\n",
       "      <th>4</th>\n",
       "      <td>1</td>\n",
       "      <td>46116</td>\n",
       "      <td>2022-08-17</td>\n",
       "      <td>19593.205092</td>\n",
       "      <td>7000</td>\n",
       "      <td>1</td>\n",
       "      <td>1</td>\n",
       "    </tr>\n",
       "  </tbody>\n",
       "</table>\n",
       "</div>"
      ],
      "text/plain": [
       "   USER_ID  ORDER_ID  ORDER_DATE     ORDER_SUM  ORDER_REVENUE  ORDER_QUANTITY  \\\n",
       "0        1      6116  2022-03-11  11060.841781           3500               1   \n",
       "1        1     22551  2022-06-01  16349.124324           5000               1   \n",
       "2        1     42149  2022-08-04   9200.386361           2500               1   \n",
       "3        1     43677  2022-08-09   7131.358040           2500               1   \n",
       "4        1     46116  2022-08-17  19593.205092           7000               1   \n",
       "\n",
       "   ORDER_UNIQUE_PRODUCTS  \n",
       "0                      1  \n",
       "1                      1  \n",
       "2                      1  \n",
       "3                      1  \n",
       "4                      1  "
      ]
     },
     "execution_count": 185,
     "metadata": {},
     "output_type": "execute_result"
    }
   ],
   "source": [
    "with open('result_task_2.txt', 'r') as file:\n",
    "    # Читаем содержимое файла\n",
    "    query = file.read()\n",
    "\n",
    "# Сохраняем результат SQL запроса в pandas DataFrame\n",
    "result_task_2 = sqldf(query, globals())\n",
    "result_task_2.head()"
   ]
  },
  {
   "cell_type": "markdown",
   "metadata": {
    "id": "eeLVZt803dKA"
   },
   "source": [
    "## Задача 3 (Python/R): Подготовка к встрече с новым владельцем сети магазинов"
   ]
  },
  {
   "cell_type": "markdown",
   "metadata": {
    "id": "hr3GDNfJ4yp9"
   },
   "source": [
    "### Описание задачи"
   ]
  },
  {
   "cell_type": "markdown",
   "metadata": {
    "id": "tD_y1AXb4k9w"
   },
   "source": [
    "3.1 Завтра состоится встреча с новым владельцами бизнеса. Тебе предстоит подготовить информацию для встречи, где были бы собраны ключевые метрики, графики и сегменты на твой взгляд.\n",
    "\n",
    "Ты можешь использовать любые данные из задачи 2, любые библиотеки и методы, которые посчитаете необходимыми. Решение предлагается сделать в свободной форме, все файлы результата и реализации выложить в GoogleDrive, ссылку прикрепить в GoogleForms (не забудь предоставить доступы). Единственное ограничение - код должен быть написан на Python или R.\n",
    "\n",
    "3.2 У Product Ownerа есть желание понять, сколько единиц каждого товара необходимо поставить в каждый из магазинов в следующем месяце. Целью является совершить одну поставку товара в начале месяца и не довозить его больше, до начала следующего.\n",
    "\n",
    "Ты можешь использовать любые данные из задачи 2, любые библиотеки и методы, которые посчитаете необходимыми. Решение предлагается сделать в свободной форме, все файлы результата и реализации выложить в GoogleDrive, ссылку прикрепить в GoogleForms (не забудь предоставить доступы). Единственное ограничение - код должен быть написан на Python или R.\n"
   ]
  },
  {
   "cell_type": "markdown",
   "metadata": {
    "id": "ixc3q-7yHf_v"
   },
   "source": [
    "## 3.1"
   ]
  },
  {
   "cell_type": "code",
   "execution_count": 186,
   "metadata": {
    "id": "w3VZXkOhHIGu"
   },
   "outputs": [],
   "source": [
    "import pandas as pd\n",
    "import matplotlib.pyplot as plt"
   ]
  },
  {
   "cell_type": "code",
   "execution_count": 187,
   "metadata": {},
   "outputs": [
    {
     "data": {
      "text/plain": [
       "30.206838960671377"
      ]
     },
     "execution_count": 187,
     "metadata": {},
     "output_type": "execute_result"
    }
   ],
   "source": [
    "df = result_task_2.copy()\n",
    "df.columns = df.columns.str.lower()\n",
    "df['order_date'] = pd.to_datetime(df['order_date'])\n",
    "df_sorted = df.sort_values(by=['user_id', 'order_date'])\n",
    "df_sorted['days_between_orders'] = df_sorted.groupby('user_id')['order_date'].diff().dt.days\n",
    "df_sorted = df_sorted.dropna(subset=['days_between_orders'])\n",
    "average_interval = df_sorted.groupby('user_id')['days_between_orders'].mean()\n",
    "average_interval.mean()"
   ]
  },
  {
   "cell_type": "code",
   "execution_count": 188,
   "metadata": {
    "colab": {
     "base_uri": "https://localhost:8080/"
    },
    "id": "4-2py6JaaRev",
    "outputId": "1cd2a627-624e-4deb-ca4e-88630d328f5c"
   },
   "outputs": [
    {
     "data": {
      "text/plain": [
       "array([ 6,  5, 10, 15,  2,  1, 13,  3,  9,  7,  8,  4, 14, 11, 12],\n",
       "      dtype=int64)"
      ]
     },
     "execution_count": 188,
     "metadata": {},
     "output_type": "execute_result"
    }
   ],
   "source": [
    "orders['store_id'].unique()"
   ]
  },
  {
   "cell_type": "markdown",
   "metadata": {
    "id": "gi5fFcHvV89D"
   },
   "source": [
    "Добавим в датасет колонку с названием магазина"
   ]
  },
  {
   "cell_type": "code",
   "execution_count": 189,
   "metadata": {
    "colab": {
     "base_uri": "https://localhost:8080/",
     "height": 206
    },
    "id": "o-gs3OAHG-hO",
    "outputId": "454f122e-e3ea-45e8-ed1f-84d8f1354895"
   },
   "outputs": [
    {
     "data": {
      "text/html": [
       "<div>\n",
       "<style scoped>\n",
       "    .dataframe tbody tr th:only-of-type {\n",
       "        vertical-align: middle;\n",
       "    }\n",
       "\n",
       "    .dataframe tbody tr th {\n",
       "        vertical-align: top;\n",
       "    }\n",
       "\n",
       "    .dataframe thead th {\n",
       "        text-align: right;\n",
       "    }\n",
       "</style>\n",
       "<table border=\"1\" class=\"dataframe\">\n",
       "  <thead>\n",
       "    <tr style=\"text-align: right;\">\n",
       "      <th></th>\n",
       "      <th>user_id</th>\n",
       "      <th>order_id</th>\n",
       "      <th>order_date</th>\n",
       "      <th>order_sum</th>\n",
       "      <th>order_revenue</th>\n",
       "      <th>order_quantity</th>\n",
       "      <th>order_unique_products</th>\n",
       "      <th>store_name</th>\n",
       "    </tr>\n",
       "  </thead>\n",
       "  <tbody>\n",
       "    <tr>\n",
       "      <th>0</th>\n",
       "      <td>1</td>\n",
       "      <td>6116</td>\n",
       "      <td>2022-03-11</td>\n",
       "      <td>11060.841781</td>\n",
       "      <td>3500</td>\n",
       "      <td>1</td>\n",
       "      <td>1</td>\n",
       "      <td>Rio Leninsky</td>\n",
       "    </tr>\n",
       "    <tr>\n",
       "      <th>1</th>\n",
       "      <td>1</td>\n",
       "      <td>22551</td>\n",
       "      <td>2022-06-01</td>\n",
       "      <td>16349.124324</td>\n",
       "      <td>5000</td>\n",
       "      <td>1</td>\n",
       "      <td>1</td>\n",
       "      <td>Rio Leninsky</td>\n",
       "    </tr>\n",
       "    <tr>\n",
       "      <th>2</th>\n",
       "      <td>1</td>\n",
       "      <td>42149</td>\n",
       "      <td>2022-08-04</td>\n",
       "      <td>9200.386361</td>\n",
       "      <td>2500</td>\n",
       "      <td>1</td>\n",
       "      <td>1</td>\n",
       "      <td>Kapitoly Belyaevo</td>\n",
       "    </tr>\n",
       "    <tr>\n",
       "      <th>3</th>\n",
       "      <td>1</td>\n",
       "      <td>43677</td>\n",
       "      <td>2022-08-09</td>\n",
       "      <td>7131.358040</td>\n",
       "      <td>2500</td>\n",
       "      <td>1</td>\n",
       "      <td>1</td>\n",
       "      <td>Kapitoly Belyaevo</td>\n",
       "    </tr>\n",
       "    <tr>\n",
       "      <th>4</th>\n",
       "      <td>1</td>\n",
       "      <td>46116</td>\n",
       "      <td>2022-08-17</td>\n",
       "      <td>19593.205092</td>\n",
       "      <td>7000</td>\n",
       "      <td>1</td>\n",
       "      <td>1</td>\n",
       "      <td>Kapitoly Belyaevo</td>\n",
       "    </tr>\n",
       "  </tbody>\n",
       "</table>\n",
       "</div>"
      ],
      "text/plain": [
       "   user_id  order_id  order_date     order_sum  order_revenue  order_quantity  \\\n",
       "0        1      6116  2022-03-11  11060.841781           3500               1   \n",
       "1        1     22551  2022-06-01  16349.124324           5000               1   \n",
       "2        1     42149  2022-08-04   9200.386361           2500               1   \n",
       "3        1     43677  2022-08-09   7131.358040           2500               1   \n",
       "4        1     46116  2022-08-17  19593.205092           7000               1   \n",
       "\n",
       "   order_unique_products         store_name  \n",
       "0                      1       Rio Leninsky  \n",
       "1                      1       Rio Leninsky  \n",
       "2                      1  Kapitoly Belyaevo  \n",
       "3                      1  Kapitoly Belyaevo  \n",
       "4                      1  Kapitoly Belyaevo  "
      ]
     },
     "execution_count": 189,
     "metadata": {},
     "output_type": "execute_result"
    }
   ],
   "source": [
    "data = result_task_2.copy()\n",
    "data.columns = data.columns.str.lower()\n",
    "data = pd.merge(data, orders[['order_id', 'store_id']], on='order_id', how='left')\n",
    "data = pd.merge(data, store[['store_name', 'store_id']], on='store_id', how='left')\n",
    "data.drop('store_id', axis=1, inplace=True)\n",
    "data.head()"
   ]
  },
  {
   "cell_type": "code",
   "execution_count": 190,
   "metadata": {},
   "outputs": [
    {
     "data": {
      "text/plain": [
       "21048.488968129415"
      ]
     },
     "execution_count": 190,
     "metadata": {},
     "output_type": "execute_result"
    }
   ],
   "source": [
    "data['order_sum'].mean()"
   ]
  },
  {
   "cell_type": "code",
   "execution_count": 191,
   "metadata": {
    "colab": {
     "base_uri": "https://localhost:8080/",
     "height": 206
    },
    "id": "NUv8ZUXSgxWD",
    "outputId": "c4794369-9677-4e95-bb17-66d5d0782f9e"
   },
   "outputs": [
    {
     "data": {
      "text/html": [
       "<div>\n",
       "<style scoped>\n",
       "    .dataframe tbody tr th:only-of-type {\n",
       "        vertical-align: middle;\n",
       "    }\n",
       "\n",
       "    .dataframe tbody tr th {\n",
       "        vertical-align: top;\n",
       "    }\n",
       "\n",
       "    .dataframe thead th {\n",
       "        text-align: right;\n",
       "    }\n",
       "</style>\n",
       "<table border=\"1\" class=\"dataframe\">\n",
       "  <thead>\n",
       "    <tr style=\"text-align: right;\">\n",
       "      <th></th>\n",
       "      <th>store_name</th>\n",
       "      <th>total_orders</th>\n",
       "      <th>total_quantity</th>\n",
       "      <th>total_revenue</th>\n",
       "      <th>revenue_per_order</th>\n",
       "    </tr>\n",
       "  </thead>\n",
       "  <tbody>\n",
       "    <tr>\n",
       "      <th>0</th>\n",
       "      <td>Grinvich</td>\n",
       "      <td>30218</td>\n",
       "      <td>45829</td>\n",
       "      <td>170482000</td>\n",
       "      <td>3719.958978</td>\n",
       "    </tr>\n",
       "    <tr>\n",
       "      <th>1</th>\n",
       "      <td>Kapitoly Belyaevo</td>\n",
       "      <td>19465</td>\n",
       "      <td>30376</td>\n",
       "      <td>112553500</td>\n",
       "      <td>3705.343034</td>\n",
       "    </tr>\n",
       "    <tr>\n",
       "      <th>2</th>\n",
       "      <td>Rio Leninsky</td>\n",
       "      <td>19606</td>\n",
       "      <td>29302</td>\n",
       "      <td>109427000</td>\n",
       "      <td>3734.454986</td>\n",
       "    </tr>\n",
       "    <tr>\n",
       "      <th>3</th>\n",
       "      <td>Aviapark</td>\n",
       "      <td>17823</td>\n",
       "      <td>27935</td>\n",
       "      <td>105391000</td>\n",
       "      <td>3772.722391</td>\n",
       "    </tr>\n",
       "    <tr>\n",
       "      <th>4</th>\n",
       "      <td>Koltso</td>\n",
       "      <td>16918</td>\n",
       "      <td>25990</td>\n",
       "      <td>96549000</td>\n",
       "      <td>3714.851866</td>\n",
       "    </tr>\n",
       "    <tr>\n",
       "      <th>5</th>\n",
       "      <td>Evropeisky</td>\n",
       "      <td>16905</td>\n",
       "      <td>25245</td>\n",
       "      <td>93784000</td>\n",
       "      <td>3714.953456</td>\n",
       "    </tr>\n",
       "    <tr>\n",
       "      <th>6</th>\n",
       "      <td>Evropolis</td>\n",
       "      <td>12283</td>\n",
       "      <td>18881</td>\n",
       "      <td>69630500</td>\n",
       "      <td>3687.860812</td>\n",
       "    </tr>\n",
       "    <tr>\n",
       "      <th>7</th>\n",
       "      <td>Galereia</td>\n",
       "      <td>10314</td>\n",
       "      <td>16239</td>\n",
       "      <td>59348000</td>\n",
       "      <td>3654.658538</td>\n",
       "    </tr>\n",
       "    <tr>\n",
       "      <th>8</th>\n",
       "      <td>Sedmoe Nebo</td>\n",
       "      <td>9040</td>\n",
       "      <td>13795</td>\n",
       "      <td>50808000</td>\n",
       "      <td>3683.073577</td>\n",
       "    </tr>\n",
       "    <tr>\n",
       "      <th>9</th>\n",
       "      <td>Kapitoliy Vernadskogo</td>\n",
       "      <td>7039</td>\n",
       "      <td>10708</td>\n",
       "      <td>38926500</td>\n",
       "      <td>3635.272693</td>\n",
       "    </tr>\n",
       "    <tr>\n",
       "      <th>10</th>\n",
       "      <td>Afimoll</td>\n",
       "      <td>6437</td>\n",
       "      <td>9775</td>\n",
       "      <td>36313000</td>\n",
       "      <td>3714.884910</td>\n",
       "    </tr>\n",
       "    <tr>\n",
       "      <th>11</th>\n",
       "      <td>Tsvetnoy</td>\n",
       "      <td>5081</td>\n",
       "      <td>7766</td>\n",
       "      <td>28439500</td>\n",
       "      <td>3662.052537</td>\n",
       "    </tr>\n",
       "    <tr>\n",
       "      <th>12</th>\n",
       "      <td>Muravei</td>\n",
       "      <td>1089</td>\n",
       "      <td>1715</td>\n",
       "      <td>5996000</td>\n",
       "      <td>3496.209913</td>\n",
       "    </tr>\n",
       "  </tbody>\n",
       "</table>\n",
       "</div>"
      ],
      "text/plain": [
       "               store_name  total_orders  total_quantity  total_revenue  \\\n",
       "0                Grinvich         30218           45829      170482000   \n",
       "1       Kapitoly Belyaevo         19465           30376      112553500   \n",
       "2            Rio Leninsky         19606           29302      109427000   \n",
       "3                Aviapark         17823           27935      105391000   \n",
       "4                  Koltso         16918           25990       96549000   \n",
       "5              Evropeisky         16905           25245       93784000   \n",
       "6               Evropolis         12283           18881       69630500   \n",
       "7                Galereia         10314           16239       59348000   \n",
       "8             Sedmoe Nebo          9040           13795       50808000   \n",
       "9   Kapitoliy Vernadskogo          7039           10708       38926500   \n",
       "10                Afimoll          6437            9775       36313000   \n",
       "11               Tsvetnoy          5081            7766       28439500   \n",
       "12                Muravei          1089            1715        5996000   \n",
       "\n",
       "    revenue_per_order  \n",
       "0         3719.958978  \n",
       "1         3705.343034  \n",
       "2         3734.454986  \n",
       "3         3772.722391  \n",
       "4         3714.851866  \n",
       "5         3714.953456  \n",
       "6         3687.860812  \n",
       "7         3654.658538  \n",
       "8         3683.073577  \n",
       "9         3635.272693  \n",
       "10        3714.884910  \n",
       "11        3662.052537  \n",
       "12        3496.209913  "
      ]
     },
     "execution_count": 191,
     "metadata": {},
     "output_type": "execute_result"
    }
   ],
   "source": [
    "store_metrics = data.groupby('store_name').agg({\n",
    "    'order_id': 'count',\n",
    "    'order_quantity': 'sum',\n",
    "    'order_revenue': 'sum'\n",
    "}).reset_index()\n",
    "store_metrics.columns = ['store_name', 'total_orders', 'total_quantity', 'total_revenue']\n",
    "store_metrics = store_metrics.sort_values(by='total_revenue', ascending=False).reset_index(drop=True)\n",
    "store_metrics['revenue_per_order'] = store_metrics['total_revenue'] / store_metrics['total_quantity']\n",
    "store_metrics.head(15)"
   ]
  },
  {
   "cell_type": "code",
   "execution_count": 192,
   "metadata": {},
   "outputs": [
    {
     "data": {
      "text/plain": [
       "977648000"
      ]
     },
     "execution_count": 192,
     "metadata": {},
     "output_type": "execute_result"
    }
   ],
   "source": [
    "store_metrics['total_revenue'].sum()"
   ]
  },
  {
   "cell_type": "markdown",
   "metadata": {
    "id": "zMHWrDbLg616"
   },
   "source": [
    "Но куда пропали 2 магазина"
   ]
  },
  {
   "cell_type": "code",
   "execution_count": 193,
   "metadata": {
    "colab": {
     "base_uri": "https://localhost:8080/"
    },
    "id": "XaJPe4c1dt4l",
    "outputId": "5c5d2f5b-b635-4eee-84a9-a46a3dcbd6ea"
   },
   "outputs": [
    {
     "data": {
      "text/plain": [
       "array([ 6,  5,  1,  3,  4,  7,  2, 10,  9,  8, 13, 14, 15], dtype=int64)"
      ]
     },
     "execution_count": 193,
     "metadata": {},
     "output_type": "execute_result"
    }
   ],
   "source": [
    "data = result_task_2.copy()\n",
    "data.columns = data.columns.str.lower()\n",
    "data = pd.merge(data, orders[['order_id', 'store_id']], on='order_id', how='left')\n",
    "data['store_id'].unique()"
   ]
  },
  {
   "cell_type": "markdown",
   "metadata": {
    "id": "0ptlUVO9g_qQ"
   },
   "source": [
    "Магазины с id 11 и 12 не отображаются"
   ]
  },
  {
   "cell_type": "code",
   "execution_count": 194,
   "metadata": {
    "colab": {
     "base_uri": "https://localhost:8080/"
    },
    "id": "CVAPRMH1fFZa",
    "outputId": "132e36ad-6eba-4d15-c13f-5a6c1e4876ae"
   },
   "outputs": [
    {
     "data": {
      "text/plain": [
       "(45993, 5)"
      ]
     },
     "execution_count": 194,
     "metadata": {},
     "output_type": "execute_result"
    }
   ],
   "source": [
    "orders[orders['store_id'] == 12].shape"
   ]
  },
  {
   "cell_type": "code",
   "execution_count": 195,
   "metadata": {
    "colab": {
     "base_uri": "https://localhost:8080/",
     "height": 53
    },
    "id": "rmUM0qi_hQTD",
    "outputId": "64bcf058-eae9-4a67-aaca-a8fb7b7d2435"
   },
   "outputs": [
    {
     "data": {
      "text/html": [
       "<div>\n",
       "<style scoped>\n",
       "    .dataframe tbody tr th:only-of-type {\n",
       "        vertical-align: middle;\n",
       "    }\n",
       "\n",
       "    .dataframe tbody tr th {\n",
       "        vertical-align: top;\n",
       "    }\n",
       "\n",
       "    .dataframe thead th {\n",
       "        text-align: right;\n",
       "    }\n",
       "</style>\n",
       "<table border=\"1\" class=\"dataframe\">\n",
       "  <thead>\n",
       "    <tr style=\"text-align: right;\">\n",
       "      <th></th>\n",
       "      <th>id</th>\n",
       "      <th>purchase_date</th>\n",
       "      <th>order_id</th>\n",
       "      <th>product_id</th>\n",
       "      <th>is_canceled</th>\n",
       "      <th>is_accepted</th>\n",
       "      <th>order_date</th>\n",
       "      <th>user_id</th>\n",
       "      <th>store_id</th>\n",
       "      <th>product_info</th>\n",
       "    </tr>\n",
       "  </thead>\n",
       "  <tbody>\n",
       "  </tbody>\n",
       "</table>\n",
       "</div>"
      ],
      "text/plain": [
       "Empty DataFrame\n",
       "Columns: [id, purchase_date, order_id, product_id, is_canceled, is_accepted, order_date, user_id, store_id, product_info]\n",
       "Index: []"
      ]
     },
     "execution_count": 195,
     "metadata": {},
     "output_type": "execute_result"
    }
   ],
   "source": [
    "test = pd.merge(sales, orders, on='order_id', how='left')\n",
    "test[(test['store_id'] == 12) & (test['is_canceled'] == False) & (test['is_accepted'] == True)]"
   ]
  },
  {
   "cell_type": "code",
   "execution_count": 196,
   "metadata": {
    "colab": {
     "base_uri": "https://localhost:8080/",
     "height": 53
    },
    "id": "spboAuA7iYw3",
    "outputId": "0d0ebc06-4dc3-42a7-9107-87714b6e9309"
   },
   "outputs": [
    {
     "data": {
      "text/html": [
       "<div>\n",
       "<style scoped>\n",
       "    .dataframe tbody tr th:only-of-type {\n",
       "        vertical-align: middle;\n",
       "    }\n",
       "\n",
       "    .dataframe tbody tr th {\n",
       "        vertical-align: top;\n",
       "    }\n",
       "\n",
       "    .dataframe thead th {\n",
       "        text-align: right;\n",
       "    }\n",
       "</style>\n",
       "<table border=\"1\" class=\"dataframe\">\n",
       "  <thead>\n",
       "    <tr style=\"text-align: right;\">\n",
       "      <th></th>\n",
       "      <th>id</th>\n",
       "      <th>purchase_date</th>\n",
       "      <th>order_id</th>\n",
       "      <th>product_id</th>\n",
       "      <th>is_canceled</th>\n",
       "      <th>is_accepted</th>\n",
       "      <th>order_date</th>\n",
       "      <th>user_id</th>\n",
       "      <th>store_id</th>\n",
       "      <th>product_info</th>\n",
       "    </tr>\n",
       "  </thead>\n",
       "  <tbody>\n",
       "  </tbody>\n",
       "</table>\n",
       "</div>"
      ],
      "text/plain": [
       "Empty DataFrame\n",
       "Columns: [id, purchase_date, order_id, product_id, is_canceled, is_accepted, order_date, user_id, store_id, product_info]\n",
       "Index: []"
      ]
     },
     "execution_count": 196,
     "metadata": {},
     "output_type": "execute_result"
    }
   ],
   "source": [
    "test[(test['store_id'] == 11) & (test['is_canceled'] == False) & (test['is_accepted'] == True)]"
   ]
  },
  {
   "cell_type": "markdown",
   "metadata": {
    "id": "61hMu5XHicT2"
   },
   "source": [
    "Для магазинов 11 и 12 не было продаж, которые не вернули."
   ]
  },
  {
   "cell_type": "markdown",
   "metadata": {
    "id": "PaL2vDCkjXtU"
   },
   "source": [
    "Если поле is_accepted=True и is_canceled=False, то произошел платеж по товару в заказе.\n",
    "Если поле is_accepted=False и is_canceled=False, то произошло создание платежа по товару, но его еще не оплатили и не отменили.\n",
    "Если поле is_accepted=True и is_canceled=True, то произошел возврат товара по заказу, а товар ранее был оплачен. Клиенту вернется сумма платежа.\n",
    "Если поле is_accepted=False и is_canceled=True, то произошла отмена товара, который ранее не оплачивали. (если статус платежа по товару меняется, то не создается новая запись в БД, а меняются поля (is_accepted, is_canceled ) в текущей записи)."
   ]
  },
  {
   "cell_type": "code",
   "execution_count": 197,
   "metadata": {
    "id": "fdTLqvbzjjbz"
   },
   "outputs": [
    {
     "data": {
      "text/plain": [
       "(1411786, 10)"
      ]
     },
     "execution_count": 197,
     "metadata": {},
     "output_type": "execute_result"
    }
   ],
   "source": [
    "test[(test['is_canceled'] == False) & (test['is_accepted'] == True)].shape"
   ]
  },
  {
   "cell_type": "code",
   "execution_count": 198,
   "metadata": {
    "id": "0wZfdTFsjHgG"
   },
   "outputs": [
    {
     "data": {
      "text/plain": [
       "(1319838, 10)"
      ]
     },
     "execution_count": 198,
     "metadata": {},
     "output_type": "execute_result"
    }
   ],
   "source": [
    "test[(test['is_canceled'] == True) & (test['is_accepted'] == True)].shape"
   ]
  },
  {
   "cell_type": "code",
   "execution_count": 199,
   "metadata": {
    "id": "FhqXBqu1jM67"
   },
   "outputs": [
    {
     "data": {
      "text/plain": [
       "(185768, 10)"
      ]
     },
     "execution_count": 199,
     "metadata": {},
     "output_type": "execute_result"
    }
   ],
   "source": [
    "test[(test['is_canceled'] == True) & (test['is_accepted'] == False)].shape"
   ]
  },
  {
   "cell_type": "code",
   "execution_count": 200,
   "metadata": {
    "id": "In8VMT5rjQFk"
   },
   "outputs": [
    {
     "data": {
      "text/plain": [
       "(455697, 10)"
      ]
     },
     "execution_count": 200,
     "metadata": {},
     "output_type": "execute_result"
    }
   ],
   "source": [
    "test[(test['is_canceled'] == False) & (test['is_accepted'] == False)].shape"
   ]
  },
  {
   "cell_type": "markdown",
   "metadata": {
    "id": "Rl0wPatXwuWF"
   },
   "source": [
    "1.   96330 товаров - товар оплачен, затем возврат\n",
    "2.   52576 товаров - отмена товара, который ранее не оплачивали\n",
    "3.   5806 товаров - создан платеж, не отменен и не оплачен\n",
    "4.   0 товаров куплены и оплачены\n",
    "\n",
    "Возможно в этих магазинах продавались некачественные или дефектные товары. Возможно проблемы с обслуживанием, ассортиментом или ценами. Возможны мошеннические схемы или проблемы с учетом."
   ]
  },
  {
   "cell_type": "markdown",
   "metadata": {
    "id": "4msyKGPjDM2X"
   },
   "source": [
    "Выручка по дням"
   ]
  },
  {
   "cell_type": "code",
   "execution_count": 203,
   "metadata": {
    "colab": {
     "base_uri": "https://localhost:8080/",
     "height": 564
    },
    "id": "0vuywCSzDPDE",
    "outputId": "821c5da1-754e-467f-d80f-bbd5ccd11fbd"
   },
   "outputs": [
    {
     "data": {
      "image/png": "[encoded data removed]",
      "text/plain": [
       "<Figure size 1600x600 with 1 Axes>"
      ]
     },
     "metadata": {},
     "output_type": "display_data"
    },
    {
     "name": "stdout",
     "output_type": "stream",
     "text": [
      "Даты с наибольшими скачками выручки:\n",
      "2023-08-06\n",
      "2023-09-17\n"
     ]
    }
   ],
   "source": [
    "import matplotlib.pyplot as plt\n",
    "df = result_task_2.copy()\n",
    "traffic_data = df.groupby('ORDER_DATE')['ORDER_REVENUE'].sum()\n",
    "\n",
    "differences = traffic_data.diff().fillna(0)\n",
    "top2_dates = differences.nlargest(2).index\n",
    "\n",
    "# Plot the revenue data\n",
    "plt.figure(figsize=(16, 6))\n",
    "plt.plot(traffic_data.index, traffic_data.values)\n",
    "plt.title('Выручка по датам')\n",
    "plt.xlabel('Дата')\n",
    "plt.ylabel('Выручка')\n",
    "\n",
    "for date in top2_dates:\n",
    "    plt.axvline(x=date, color='red', linestyle='--', alpha=0.3)\n",
    "\n",
    "plt.show()\n",
    "\n",
    "print(\"Даты с наибольшими скачками выручки:\")\n",
    "for date in top2_dates:\n",
    "    print(date)"
   ]
  },
  {
   "cell_type": "markdown",
   "metadata": {
    "id": "miZbbZppihgn"
   },
   "source": [
    "Общий трафик"
   ]
  },
  {
   "cell_type": "code",
   "execution_count": 206,
   "metadata": {
    "colab": {
     "base_uri": "https://localhost:8080/",
     "height": 564
    },
    "id": "XyP_3P0wilYl",
    "outputId": "a8f43e91-6df2-40be-b631-53b80ba5297e"
   },
   "outputs": [
    {
     "data": {
      "image/png": "[encoded data removed]",
      "text/plain": [
       "<Figure size 1600x600 with 1 Axes>"
      ]
     },
     "metadata": {},
     "output_type": "display_data"
    },
    {
     "name": "stdout",
     "output_type": "stream",
     "text": [
      "Даты с наибольшими скачками:\n",
      "2023-08-06\n",
      "2023-10-04\n",
      "2023-09-15\n",
      "2023-04-02\n"
     ]
    }
   ],
   "source": [
    "df = result_task_2.copy()\n",
    "traffic_data = df.groupby('ORDER_DATE')['USER_ID'].count()\n",
    "differences = traffic_data.diff().fillna(0)\n",
    "top4_dates = differences.nlargest(4).index\n",
    "\n",
    "plt.figure(figsize=(16, 6))\n",
    "plt.plot(traffic_data.index, traffic_data.values)\n",
    "plt.title('Общий трафик по датам')\n",
    "plt.xlabel('Дата')\n",
    "plt.ylabel('Количество покупок')\n",
    "\n",
    "for date in top4_dates:\n",
    "    plt.axvline(x=date, color='red', linestyle='--', alpha=0.3)\n",
    "plt.show()\n",
    "\n",
    "print(\"Даты с наибольшими скачками:\")\n",
    "for date in top4_dates:\n",
    "    print(date)"
   ]
  },
  {
   "cell_type": "markdown",
   "metadata": {
    "id": "ZpixHAKnjzyz"
   },
   "source": [
    "Приток новых посетителей по дням"
   ]
  },
  {
   "cell_type": "code",
   "execution_count": 207,
   "metadata": {
    "colab": {
     "base_uri": "https://localhost:8080/",
     "height": 564
    },
    "id": "K8o_K6pmj4MV",
    "outputId": "e790713c-1002-46ec-8ca1-b519f3da8371"
   },
   "outputs": [
    {
     "data": {
      "image/png": "[encoded data removed]",
      "text/plain": [
       "<Figure size 1600x600 with 1 Axes>"
      ]
     },
     "metadata": {},
     "output_type": "display_data"
    },
    {
     "name": "stdout",
     "output_type": "stream",
     "text": [
      "Даты с наибольшими скачками:\n",
      "2023-08-06\n",
      "2022-09-08\n",
      "2023-02-02\n"
     ]
    }
   ],
   "source": [
    "df = result_task_2.copy()\n",
    "df['ORDER_DATE'] = pd.to_datetime(df['ORDER_DATE'])\n",
    "first_order_dates = df.groupby('USER_ID')['ORDER_DATE'].min()\n",
    "new_visitors_traffic = first_order_dates.value_counts().sort_index()\n",
    "\n",
    "differences = new_visitors_traffic.diff().fillna(0)\n",
    "\n",
    "top5_dates = differences.nlargest(3).index\n",
    "\n",
    "plt.figure(figsize=(16, 6))\n",
    "plt.plot(new_visitors_traffic.index, new_visitors_traffic.values, linestyle='-')\n",
    "plt.title('Приток новых пользователей по датам')\n",
    "plt.xlabel('Дата')\n",
    "plt.ylabel('Количество новых пользователей')\n",
    "plt.grid(True)\n",
    "for date in top5_dates:\n",
    "    plt.axvline(x=date, color='red', linestyle='--', alpha=0.3)\n",
    "\n",
    "plt.show()\n",
    "\n",
    "\n",
    "print(\"Даты с наибольшими скачками:\")\n",
    "for date in top5_dates:\n",
    "    print(date.date())"
   ]
  },
  {
   "cell_type": "code",
   "execution_count": 208,
   "metadata": {},
   "outputs": [
    {
     "data": {
      "text/plain": [
       "Timestamp('2022-01-11 00:00:00')"
      ]
     },
     "execution_count": 208,
     "metadata": {},
     "output_type": "execute_result"
    }
   ],
   "source": [
    "df['ORDER_DATE'].min()"
   ]
  },
  {
   "cell_type": "code",
   "execution_count": 209,
   "metadata": {
    "id": "AocguftMQnjE"
   },
   "outputs": [
    {
     "name": "stderr",
     "output_type": "stream",
     "text": [
      "C:\\Users\\Home\\AppData\\Local\\Temp\\ipykernel_10360\\3560793912.py:9: FutureWarning:\n",
      "\n",
      "Series.__getitem__ treating keys as positions is deprecated. In a future version, integer keys will always be treated as labels (consistent with DataFrame behavior). To access a value by position, use `ser.iloc[pos]`\n",
      "\n"
     ]
    },
    {
     "data": {
      "text/html": [
       "<div>\n",
       "<style scoped>\n",
       "    .dataframe tbody tr th:only-of-type {\n",
       "        vertical-align: middle;\n",
       "    }\n",
       "\n",
       "    .dataframe tbody tr th {\n",
       "        vertical-align: top;\n",
       "    }\n",
       "\n",
       "    .dataframe thead th {\n",
       "        text-align: right;\n",
       "    }\n",
       "</style>\n",
       "<table border=\"1\" class=\"dataframe\">\n",
       "  <thead>\n",
       "    <tr style=\"text-align: right;\">\n",
       "      <th></th>\n",
       "      <th>Users</th>\n",
       "      <th>Percentage of Previous Stage</th>\n",
       "      <th>Percentage of First Stage</th>\n",
       "    </tr>\n",
       "  </thead>\n",
       "  <tbody>\n",
       "    <tr>\n",
       "      <th>1-я покупка</th>\n",
       "      <td>9900</td>\n",
       "      <td>100.000000</td>\n",
       "      <td>100.000000</td>\n",
       "    </tr>\n",
       "    <tr>\n",
       "      <th>2-я покупка</th>\n",
       "      <td>9900</td>\n",
       "      <td>100.000000</td>\n",
       "      <td>100.000000</td>\n",
       "    </tr>\n",
       "    <tr>\n",
       "      <th>3-я покупка</th>\n",
       "      <td>9899</td>\n",
       "      <td>99.989899</td>\n",
       "      <td>99.989899</td>\n",
       "    </tr>\n",
       "    <tr>\n",
       "      <th>4-я покупка</th>\n",
       "      <td>9894</td>\n",
       "      <td>99.949490</td>\n",
       "      <td>99.939394</td>\n",
       "    </tr>\n",
       "    <tr>\n",
       "      <th>5-я покупка</th>\n",
       "      <td>9880</td>\n",
       "      <td>99.858500</td>\n",
       "      <td>99.797980</td>\n",
       "    </tr>\n",
       "    <tr>\n",
       "      <th>6-я покупка</th>\n",
       "      <td>9848</td>\n",
       "      <td>99.676113</td>\n",
       "      <td>99.474747</td>\n",
       "    </tr>\n",
       "    <tr>\n",
       "      <th>7-я покупка</th>\n",
       "      <td>9774</td>\n",
       "      <td>99.248578</td>\n",
       "      <td>98.727273</td>\n",
       "    </tr>\n",
       "    <tr>\n",
       "      <th>8-я покупка</th>\n",
       "      <td>9610</td>\n",
       "      <td>98.322079</td>\n",
       "      <td>97.070707</td>\n",
       "    </tr>\n",
       "    <tr>\n",
       "      <th>9-я покупка</th>\n",
       "      <td>9382</td>\n",
       "      <td>97.627471</td>\n",
       "      <td>94.767677</td>\n",
       "    </tr>\n",
       "    <tr>\n",
       "      <th>10-я покупка</th>\n",
       "      <td>9023</td>\n",
       "      <td>96.173524</td>\n",
       "      <td>91.141414</td>\n",
       "    </tr>\n",
       "    <tr>\n",
       "      <th>11-я покупка</th>\n",
       "      <td>8602</td>\n",
       "      <td>95.334146</td>\n",
       "      <td>86.888889</td>\n",
       "    </tr>\n",
       "    <tr>\n",
       "      <th>12-я покупка</th>\n",
       "      <td>8044</td>\n",
       "      <td>93.513136</td>\n",
       "      <td>81.252525</td>\n",
       "    </tr>\n",
       "    <tr>\n",
       "      <th>13-я покупка</th>\n",
       "      <td>7458</td>\n",
       "      <td>92.715067</td>\n",
       "      <td>75.333333</td>\n",
       "    </tr>\n",
       "    <tr>\n",
       "      <th>14-я покупка</th>\n",
       "      <td>6822</td>\n",
       "      <td>91.472245</td>\n",
       "      <td>68.909091</td>\n",
       "    </tr>\n",
       "    <tr>\n",
       "      <th>15-я покупка</th>\n",
       "      <td>6136</td>\n",
       "      <td>89.944298</td>\n",
       "      <td>61.979798</td>\n",
       "    </tr>\n",
       "    <tr>\n",
       "      <th>16-я покупка</th>\n",
       "      <td>5446</td>\n",
       "      <td>88.754889</td>\n",
       "      <td>55.010101</td>\n",
       "    </tr>\n",
       "    <tr>\n",
       "      <th>17-я покупка</th>\n",
       "      <td>4748</td>\n",
       "      <td>87.183254</td>\n",
       "      <td>47.959596</td>\n",
       "    </tr>\n",
       "    <tr>\n",
       "      <th>18-я покупка</th>\n",
       "      <td>4116</td>\n",
       "      <td>86.689132</td>\n",
       "      <td>41.575758</td>\n",
       "    </tr>\n",
       "    <tr>\n",
       "      <th>19-я покупка</th>\n",
       "      <td>3558</td>\n",
       "      <td>86.443149</td>\n",
       "      <td>35.939394</td>\n",
       "    </tr>\n",
       "    <tr>\n",
       "      <th>20-я покупка</th>\n",
       "      <td>3014</td>\n",
       "      <td>84.710512</td>\n",
       "      <td>30.444444</td>\n",
       "    </tr>\n",
       "    <tr>\n",
       "      <th>21-я покупка</th>\n",
       "      <td>2587</td>\n",
       "      <td>85.832780</td>\n",
       "      <td>26.131313</td>\n",
       "    </tr>\n",
       "    <tr>\n",
       "      <th>22-я покупка</th>\n",
       "      <td>2214</td>\n",
       "      <td>85.581755</td>\n",
       "      <td>22.363636</td>\n",
       "    </tr>\n",
       "    <tr>\n",
       "      <th>23-я покупка</th>\n",
       "      <td>1889</td>\n",
       "      <td>85.320687</td>\n",
       "      <td>19.080808</td>\n",
       "    </tr>\n",
       "    <tr>\n",
       "      <th>24-я покупка</th>\n",
       "      <td>1638</td>\n",
       "      <td>86.712546</td>\n",
       "      <td>16.545455</td>\n",
       "    </tr>\n",
       "    <tr>\n",
       "      <th>25-я покупка</th>\n",
       "      <td>1417</td>\n",
       "      <td>86.507937</td>\n",
       "      <td>14.313131</td>\n",
       "    </tr>\n",
       "    <tr>\n",
       "      <th>26-я покупка</th>\n",
       "      <td>1229</td>\n",
       "      <td>86.732534</td>\n",
       "      <td>12.414141</td>\n",
       "    </tr>\n",
       "    <tr>\n",
       "      <th>27-я покупка</th>\n",
       "      <td>1044</td>\n",
       "      <td>84.947111</td>\n",
       "      <td>10.545455</td>\n",
       "    </tr>\n",
       "    <tr>\n",
       "      <th>28-я покупка</th>\n",
       "      <td>923</td>\n",
       "      <td>88.409962</td>\n",
       "      <td>9.323232</td>\n",
       "    </tr>\n",
       "    <tr>\n",
       "      <th>29-я покупка</th>\n",
       "      <td>787</td>\n",
       "      <td>85.265439</td>\n",
       "      <td>7.949495</td>\n",
       "    </tr>\n",
       "    <tr>\n",
       "      <th>30-я покупка</th>\n",
       "      <td>678</td>\n",
       "      <td>86.149936</td>\n",
       "      <td>6.848485</td>\n",
       "    </tr>\n",
       "    <tr>\n",
       "      <th>31-я покупка</th>\n",
       "      <td>576</td>\n",
       "      <td>84.955752</td>\n",
       "      <td>5.818182</td>\n",
       "    </tr>\n",
       "    <tr>\n",
       "      <th>32-я покупка</th>\n",
       "      <td>481</td>\n",
       "      <td>83.506944</td>\n",
       "      <td>4.858586</td>\n",
       "    </tr>\n",
       "    <tr>\n",
       "      <th>33-я покупка</th>\n",
       "      <td>384</td>\n",
       "      <td>79.833680</td>\n",
       "      <td>3.878788</td>\n",
       "    </tr>\n",
       "    <tr>\n",
       "      <th>34-я покупка</th>\n",
       "      <td>315</td>\n",
       "      <td>82.031250</td>\n",
       "      <td>3.181818</td>\n",
       "    </tr>\n",
       "    <tr>\n",
       "      <th>35-я покупка</th>\n",
       "      <td>253</td>\n",
       "      <td>80.317460</td>\n",
       "      <td>2.555556</td>\n",
       "    </tr>\n",
       "    <tr>\n",
       "      <th>36-я покупка</th>\n",
       "      <td>198</td>\n",
       "      <td>78.260870</td>\n",
       "      <td>2.000000</td>\n",
       "    </tr>\n",
       "    <tr>\n",
       "      <th>37-я покупка</th>\n",
       "      <td>155</td>\n",
       "      <td>78.282828</td>\n",
       "      <td>1.565657</td>\n",
       "    </tr>\n",
       "    <tr>\n",
       "      <th>38-я покупка</th>\n",
       "      <td>122</td>\n",
       "      <td>78.709677</td>\n",
       "      <td>1.232323</td>\n",
       "    </tr>\n",
       "    <tr>\n",
       "      <th>39-я покупка</th>\n",
       "      <td>87</td>\n",
       "      <td>71.311475</td>\n",
       "      <td>0.878788</td>\n",
       "    </tr>\n",
       "    <tr>\n",
       "      <th>40-я покупка</th>\n",
       "      <td>66</td>\n",
       "      <td>75.862069</td>\n",
       "      <td>0.666667</td>\n",
       "    </tr>\n",
       "    <tr>\n",
       "      <th>41-я покупка</th>\n",
       "      <td>44</td>\n",
       "      <td>66.666667</td>\n",
       "      <td>0.444444</td>\n",
       "    </tr>\n",
       "    <tr>\n",
       "      <th>42-я покупка</th>\n",
       "      <td>27</td>\n",
       "      <td>61.363636</td>\n",
       "      <td>0.272727</td>\n",
       "    </tr>\n",
       "    <tr>\n",
       "      <th>43-я покупка</th>\n",
       "      <td>15</td>\n",
       "      <td>55.555556</td>\n",
       "      <td>0.151515</td>\n",
       "    </tr>\n",
       "    <tr>\n",
       "      <th>44-я покупка</th>\n",
       "      <td>13</td>\n",
       "      <td>86.666667</td>\n",
       "      <td>0.131313</td>\n",
       "    </tr>\n",
       "    <tr>\n",
       "      <th>45-я покупка</th>\n",
       "      <td>8</td>\n",
       "      <td>61.538462</td>\n",
       "      <td>0.080808</td>\n",
       "    </tr>\n",
       "    <tr>\n",
       "      <th>46-я покупка</th>\n",
       "      <td>3</td>\n",
       "      <td>37.500000</td>\n",
       "      <td>0.030303</td>\n",
       "    </tr>\n",
       "    <tr>\n",
       "      <th>47-я покупка</th>\n",
       "      <td>3</td>\n",
       "      <td>100.000000</td>\n",
       "      <td>0.030303</td>\n",
       "    </tr>\n",
       "    <tr>\n",
       "      <th>48-я покупка</th>\n",
       "      <td>3</td>\n",
       "      <td>100.000000</td>\n",
       "      <td>0.030303</td>\n",
       "    </tr>\n",
       "    <tr>\n",
       "      <th>49-я покупка</th>\n",
       "      <td>2</td>\n",
       "      <td>66.666667</td>\n",
       "      <td>0.020202</td>\n",
       "    </tr>\n",
       "    <tr>\n",
       "      <th>50-я покупка</th>\n",
       "      <td>2</td>\n",
       "      <td>100.000000</td>\n",
       "      <td>0.020202</td>\n",
       "    </tr>\n",
       "    <tr>\n",
       "      <th>51-я покупка</th>\n",
       "      <td>1</td>\n",
       "      <td>50.000000</td>\n",
       "      <td>0.010101</td>\n",
       "    </tr>\n",
       "  </tbody>\n",
       "</table>\n",
       "</div>"
      ],
      "text/plain": [
       "              Users  Percentage of Previous Stage  Percentage of First Stage\n",
       "1-я покупка    9900                    100.000000                 100.000000\n",
       "2-я покупка    9900                    100.000000                 100.000000\n",
       "3-я покупка    9899                     99.989899                  99.989899\n",
       "4-я покупка    9894                     99.949490                  99.939394\n",
       "5-я покупка    9880                     99.858500                  99.797980\n",
       "6-я покупка    9848                     99.676113                  99.474747\n",
       "7-я покупка    9774                     99.248578                  98.727273\n",
       "8-я покупка    9610                     98.322079                  97.070707\n",
       "9-я покупка    9382                     97.627471                  94.767677\n",
       "10-я покупка   9023                     96.173524                  91.141414\n",
       "11-я покупка   8602                     95.334146                  86.888889\n",
       "12-я покупка   8044                     93.513136                  81.252525\n",
       "13-я покупка   7458                     92.715067                  75.333333\n",
       "14-я покупка   6822                     91.472245                  68.909091\n",
       "15-я покупка   6136                     89.944298                  61.979798\n",
       "16-я покупка   5446                     88.754889                  55.010101\n",
       "17-я покупка   4748                     87.183254                  47.959596\n",
       "18-я покупка   4116                     86.689132                  41.575758\n",
       "19-я покупка   3558                     86.443149                  35.939394\n",
       "20-я покупка   3014                     84.710512                  30.444444\n",
       "21-я покупка   2587                     85.832780                  26.131313\n",
       "22-я покупка   2214                     85.581755                  22.363636\n",
       "23-я покупка   1889                     85.320687                  19.080808\n",
       "24-я покупка   1638                     86.712546                  16.545455\n",
       "25-я покупка   1417                     86.507937                  14.313131\n",
       "26-я покупка   1229                     86.732534                  12.414141\n",
       "27-я покупка   1044                     84.947111                  10.545455\n",
       "28-я покупка    923                     88.409962                   9.323232\n",
       "29-я покупка    787                     85.265439                   7.949495\n",
       "30-я покупка    678                     86.149936                   6.848485\n",
       "31-я покупка    576                     84.955752                   5.818182\n",
       "32-я покупка    481                     83.506944                   4.858586\n",
       "33-я покупка    384                     79.833680                   3.878788\n",
       "34-я покупка    315                     82.031250                   3.181818\n",
       "35-я покупка    253                     80.317460                   2.555556\n",
       "36-я покупка    198                     78.260870                   2.000000\n",
       "37-я покупка    155                     78.282828                   1.565657\n",
       "38-я покупка    122                     78.709677                   1.232323\n",
       "39-я покупка     87                     71.311475                   0.878788\n",
       "40-я покупка     66                     75.862069                   0.666667\n",
       "41-я покупка     44                     66.666667                   0.444444\n",
       "42-я покупка     27                     61.363636                   0.272727\n",
       "43-я покупка     15                     55.555556                   0.151515\n",
       "44-я покупка     13                     86.666667                   0.131313\n",
       "45-я покупка      8                     61.538462                   0.080808\n",
       "46-я покупка      3                     37.500000                   0.030303\n",
       "47-я покупка      3                    100.000000                   0.030303\n",
       "48-я покупка      3                    100.000000                   0.030303\n",
       "49-я покупка      2                     66.666667                   0.020202\n",
       "50-я покупка      2                    100.000000                   0.020202\n",
       "51-я покупка      1                     50.000000                   0.010101"
      ]
     },
     "execution_count": 209,
     "metadata": {},
     "output_type": "execute_result"
    }
   ],
   "source": [
    "df = result_task_2.copy()\n",
    "df.sort_values(by='ORDER_DATE', inplace=True)\n",
    "df['ORDER_NUMBER'] = df.groupby('USER_ID').cumcount() + 1\n",
    "funnel = df.groupby('ORDER_NUMBER').size()\n",
    "funnel.index = [f'{i}-я покупка' for i in funnel.index]\n",
    "\n",
    "table = pd.DataFrame({\n",
    "    'Users': funnel.values,\n",
    "    'Percentage of Previous Stage': [100.0] + [(funnel[i] / funnel[i-1]) * 100 for i in range(1, len(funnel))],\n",
    "    'Percentage of First Stage': funnel / funnel.iloc[0] * 100\n",
    "})\n",
    "\n",
    "table"
   ]
  },
  {
   "cell_type": "code",
   "execution_count": 210,
   "metadata": {
    "id": "X4ZqCb3LWC65"
   },
   "outputs": [
    {
     "data": {
      "application/vnd.plotly.v1+json": {
       "config": {
        "plotlyServerURL": "https://plot.ly"
       },
       "data": [
        {
         "textfont": {
          "color": "black",
          "family": "Arial",
          "size": 10000
         },
         "textinfo": "value+percent previous",
         "type": "funnel",
         "x": [
          9900,
          9848,
          8602,
          5446,
          2587,
          1229,
          576,
          198
         ],
         "y": [
          "1-я покупка",
          "6-я покупка",
          "11-я покупка",
          "16-я покупка",
          "21-я покупка",
          "26-я покупка",
          "31-я покупка",
          "36-я покупка"
         ]
        }
       ],
       "layout": {
        "autosize": true,
        "funnelmode": "stack",
        "template": {
         "data": {
          "bar": [
           {
            "error_x": {
             "color": "#2a3f5f"
            },
            "error_y": {
             "color": "#2a3f5f"
            },
            "marker": {
             "line": {
              "color": "#E5ECF6",
              "width": 0.5
             },
             "pattern": {
              "fillmode": "overlay",
              "size": 10,
              "solidity": 0.2
             }
            },
            "type": "bar"
           }
          ],
          "barpolar": [
           {
            "marker": {
             "line": {
              "color": "#E5ECF6",
              "width": 0.5
             },
             "pattern": {
              "fillmode": "overlay",
              "size": 10,
              "solidity": 0.2
             }
            },
            "type": "barpolar"
           }
          ],
          "carpet": [
           {
            "aaxis": {
             "endlinecolor": "#2a3f5f",
             "gridcolor": "white",
             "linecolor": "white",
             "minorgridcolor": "white",
             "startlinecolor": "#2a3f5f"
            },
            "baxis": {
             "endlinecolor": "#2a3f5f",
             "gridcolor": "white",
             "linecolor": "white",
             "minorgridcolor": "white",
             "startlinecolor": "#2a3f5f"
            },
            "type": "carpet"
           }
          ],
          "choropleth": [
           {
            "colorbar": {
             "outlinewidth": 0,
             "ticks": ""
            },
            "type": "choropleth"
           }
          ],
          "contour": [
           {
            "colorbar": {
             "outlinewidth": 0,
             "ticks": ""
            },
            "colorscale": [
             [
              0,
              "#0d0887"
             ],
             [
              0.1111111111111111,
              "#46039f"
             ],
             [
              0.2222222222222222,
              "#7201a8"
             ],
             [
              0.3333333333333333,
              "#9c179e"
             ],
             [
              0.4444444444444444,
              "#bd3786"
             ],
             [
              0.5555555555555556,
              "#d8576b"
             ],
             [
              0.6666666666666666,
              "#ed7953"
             ],
             [
              0.7777777777777778,
              "#fb9f3a"
             ],
             [
              0.8888888888888888,
              "#fdca26"
             ],
             [
              1,
              "#f0f921"
             ]
            ],
            "type": "contour"
           }
          ],
          "contourcarpet": [
           {
            "colorbar": {
             "outlinewidth": 0,
             "ticks": ""
            },
            "type": "contourcarpet"
           }
          ],
          "heatmap": [
           {
            "colorbar": {
             "outlinewidth": 0,
             "ticks": ""
            },
            "colorscale": [
             [
              0,
              "#0d0887"
             ],
             [
              0.1111111111111111,
              "#46039f"
             ],
             [
              0.2222222222222222,
              "#7201a8"
             ],
             [
              0.3333333333333333,
              "#9c179e"
             ],
             [
              0.4444444444444444,
              "#bd3786"
             ],
             [
              0.5555555555555556,
              "#d8576b"
             ],
             [
              0.6666666666666666,
              "#ed7953"
             ],
             [
              0.7777777777777778,
              "#fb9f3a"
             ],
             [
              0.8888888888888888,
              "#fdca26"
             ],
             [
              1,
              "#f0f921"
             ]
            ],
            "type": "heatmap"
           }
          ],
          "heatmapgl": [
           {
            "colorbar": {
             "outlinewidth": 0,
             "ticks": ""
            },
            "colorscale": [
             [
              0,
              "#0d0887"
             ],
             [
              0.1111111111111111,
              "#46039f"
             ],
             [
              0.2222222222222222,
              "#7201a8"
             ],
             [
              0.3333333333333333,
              "#9c179e"
             ],
             [
              0.4444444444444444,
              "#bd3786"
             ],
             [
              0.5555555555555556,
              "#d8576b"
             ],
             [
              0.6666666666666666,
              "#ed7953"
             ],
             [
              0.7777777777777778,
              "#fb9f3a"
             ],
             [
              0.8888888888888888,
              "#fdca26"
             ],
             [
              1,
              "#f0f921"
             ]
            ],
            "type": "heatmapgl"
           }
          ],
          "histogram": [
           {
            "marker": {
             "pattern": {
              "fillmode": "overlay",
              "size": 10,
              "solidity": 0.2
             }
            },
            "type": "histogram"
           }
          ],
          "histogram2d": [
           {
            "colorbar": {
             "outlinewidth": 0,
             "ticks": ""
            },
            "colorscale": [
             [
              0,
              "#0d0887"
             ],
             [
              0.1111111111111111,
              "#46039f"
             ],
             [
              0.2222222222222222,
              "#7201a8"
             ],
             [
              0.3333333333333333,
              "#9c179e"
             ],
             [
              0.4444444444444444,
              "#bd3786"
             ],
             [
              0.5555555555555556,
              "#d8576b"
             ],
             [
              0.6666666666666666,
              "#ed7953"
             ],
             [
              0.7777777777777778,
              "#fb9f3a"
             ],
             [
              0.8888888888888888,
              "#fdca26"
             ],
             [
              1,
              "#f0f921"
             ]
            ],
            "type": "histogram2d"
           }
          ],
          "histogram2dcontour": [
           {
            "colorbar": {
             "outlinewidth": 0,
             "ticks": ""
            },
            "colorscale": [
             [
              0,
              "#0d0887"
             ],
             [
              0.1111111111111111,
              "#46039f"
             ],
             [
              0.2222222222222222,
              "#7201a8"
             ],
             [
              0.3333333333333333,
              "#9c179e"
             ],
             [
              0.4444444444444444,
              "#bd3786"
             ],
             [
              0.5555555555555556,
              "#d8576b"
             ],
             [
              0.6666666666666666,
              "#ed7953"
             ],
             [
              0.7777777777777778,
              "#fb9f3a"
             ],
             [
              0.8888888888888888,
              "#fdca26"
             ],
             [
              1,
              "#f0f921"
             ]
            ],
            "type": "histogram2dcontour"
           }
          ],
          "mesh3d": [
           {
            "colorbar": {
             "outlinewidth": 0,
             "ticks": ""
            },
            "type": "mesh3d"
           }
          ],
          "parcoords": [
           {
            "line": {
             "colorbar": {
              "outlinewidth": 0,
              "ticks": ""
             }
            },
            "type": "parcoords"
           }
          ],
          "pie": [
           {
            "automargin": true,
            "type": "pie"
           }
          ],
          "scatter": [
           {
            "fillpattern": {
             "fillmode": "overlay",
             "size": 10,
             "solidity": 0.2
            },
            "type": "scatter"
           }
          ],
          "scatter3d": [
           {
            "line": {
             "colorbar": {
              "outlinewidth": 0,
              "ticks": ""
             }
            },
            "marker": {
             "colorbar": {
              "outlinewidth": 0,
              "ticks": ""
             }
            },
            "type": "scatter3d"
           }
          ],
          "scattercarpet": [
           {
            "marker": {
             "colorbar": {
              "outlinewidth": 0,
              "ticks": ""
             }
            },
            "type": "scattercarpet"
           }
          ],
          "scattergeo": [
           {
            "marker": {
             "colorbar": {
              "outlinewidth": 0,
              "ticks": ""
             }
            },
            "type": "scattergeo"
           }
          ],
          "scattergl": [
           {
            "marker": {
             "colorbar": {
              "outlinewidth": 0,
              "ticks": ""
             }
            },
            "type": "scattergl"
           }
          ],
          "scattermapbox": [
           {
            "marker": {
             "colorbar": {
              "outlinewidth": 0,
              "ticks": ""
             }
            },
            "type": "scattermapbox"
           }
          ],
          "scatterpolar": [
           {
            "marker": {
             "colorbar": {
              "outlinewidth": 0,
              "ticks": ""
             }
            },
            "type": "scatterpolar"
           }
          ],
          "scatterpolargl": [
           {
            "marker": {
             "colorbar": {
              "outlinewidth": 0,
              "ticks": ""
             }
            },
            "type": "scatterpolargl"
           }
          ],
          "scatterternary": [
           {
            "marker": {
             "colorbar": {
              "outlinewidth": 0,
              "ticks": ""
             }
            },
            "type": "scatterternary"
           }
          ],
          "surface": [
           {
            "colorbar": {
             "outlinewidth": 0,
             "ticks": ""
            },
            "colorscale": [
             [
              0,
              "#0d0887"
             ],
             [
              0.1111111111111111,
              "#46039f"
             ],
             [
              0.2222222222222222,
              "#7201a8"
             ],
             [
              0.3333333333333333,
              "#9c179e"
             ],
             [
              0.4444444444444444,
              "#bd3786"
             ],
             [
              0.5555555555555556,
              "#d8576b"
             ],
             [
              0.6666666666666666,
              "#ed7953"
             ],
             [
              0.7777777777777778,
              "#fb9f3a"
             ],
             [
              0.8888888888888888,
              "#fdca26"
             ],
             [
              1,
              "#f0f921"
             ]
            ],
            "type": "surface"
           }
          ],
          "table": [
           {
            "cells": {
             "fill": {
              "color": "#EBF0F8"
             },
             "line": {
              "color": "white"
             }
            },
            "header": {
             "fill": {
              "color": "#C8D4E3"
             },
             "line": {
              "color": "white"
             }
            },
            "type": "table"
           }
          ]
         },
         "layout": {
          "annotationdefaults": {
           "arrowcolor": "#2a3f5f",
           "arrowhead": 0,
           "arrowwidth": 1
          },
          "autotypenumbers": "strict",
          "coloraxis": {
           "colorbar": {
            "outlinewidth": 0,
            "ticks": ""
           }
          },
          "colorscale": {
           "diverging": [
            [
             0,
             "#8e0152"
            ],
            [
             0.1,
             "#c51b7d"
            ],
            [
             0.2,
             "#de77ae"
            ],
            [
             0.3,
             "#f1b6da"
            ],
            [
             0.4,
             "#fde0ef"
            ],
            [
             0.5,
             "#f7f7f7"
            ],
            [
             0.6,
             "#e6f5d0"
            ],
            [
             0.7,
             "#b8e186"
            ],
            [
             0.8,
             "#7fbc41"
            ],
            [
             0.9,
             "#4d9221"
            ],
            [
             1,
             "#276419"
            ]
           ],
           "sequential": [
            [
             0,
             "#0d0887"
            ],
            [
             0.1111111111111111,
             "#46039f"
            ],
            [
             0.2222222222222222,
             "#7201a8"
            ],
            [
             0.3333333333333333,
             "#9c179e"
            ],
            [
             0.4444444444444444,
             "#bd3786"
            ],
            [
             0.5555555555555556,
             "#d8576b"
            ],
            [
             0.6666666666666666,
             "#ed7953"
            ],
            [
             0.7777777777777778,
             "#fb9f3a"
            ],
            [
             0.8888888888888888,
             "#fdca26"
            ],
            [
             1,
             "#f0f921"
            ]
           ],
           "sequentialminus": [
            [
             0,
             "#0d0887"
            ],
            [
             0.1111111111111111,
             "#46039f"
            ],
            [
             0.2222222222222222,
             "#7201a8"
            ],
            [
             0.3333333333333333,
             "#9c179e"
            ],
            [
             0.4444444444444444,
             "#bd3786"
            ],
            [
             0.5555555555555556,
             "#d8576b"
            ],
            [
             0.6666666666666666,
             "#ed7953"
            ],
            [
             0.7777777777777778,
             "#fb9f3a"
            ],
            [
             0.8888888888888888,
             "#fdca26"
            ],
            [
             1,
             "#f0f921"
            ]
           ]
          },
          "colorway": [
           "#636efa",
           "#EF553B",
           "#00cc96",
           "#ab63fa",
           "#FFA15A",
           "#19d3f3",
           "#FF6692",
           "#B6E880",
           "#FF97FF",
           "#FECB52"
          ],
          "font": {
           "color": "#2a3f5f"
          },
          "geo": {
           "bgcolor": "white",
           "lakecolor": "white",
           "landcolor": "#E5ECF6",
           "showlakes": true,
           "showland": true,
           "subunitcolor": "white"
          },
          "hoverlabel": {
           "align": "left"
          },
          "hovermode": "closest",
          "mapbox": {
           "style": "light"
          },
          "paper_bgcolor": "white",
          "plot_bgcolor": "#E5ECF6",
          "polar": {
           "angularaxis": {
            "gridcolor": "white",
            "linecolor": "white",
            "ticks": ""
           },
           "bgcolor": "#E5ECF6",
           "radialaxis": {
            "gridcolor": "white",
            "linecolor": "white",
            "ticks": ""
           }
          },
          "scene": {
           "xaxis": {
            "backgroundcolor": "#E5ECF6",
            "gridcolor": "white",
            "gridwidth": 2,
            "linecolor": "white",
            "showbackground": true,
            "ticks": "",
            "zerolinecolor": "white"
           },
           "yaxis": {
            "backgroundcolor": "#E5ECF6",
            "gridcolor": "white",
            "gridwidth": 2,
            "linecolor": "white",
            "showbackground": true,
            "ticks": "",
            "zerolinecolor": "white"
           },
           "zaxis": {
            "backgroundcolor": "#E5ECF6",
            "gridcolor": "white",
            "gridwidth": 2,
            "linecolor": "white",
            "showbackground": true,
            "ticks": "",
            "zerolinecolor": "white"
           }
          },
          "shapedefaults": {
           "line": {
            "color": "#2a3f5f"
           }
          },
          "ternary": {
           "aaxis": {
            "gridcolor": "white",
            "linecolor": "white",
            "ticks": ""
           },
           "baxis": {
            "gridcolor": "white",
            "linecolor": "white",
            "ticks": ""
           },
           "bgcolor": "#E5ECF6",
           "caxis": {
            "gridcolor": "white",
            "linecolor": "white",
            "ticks": ""
           }
          },
          "title": {
           "x": 0.05
          },
          "xaxis": {
           "automargin": true,
           "gridcolor": "white",
           "linecolor": "white",
           "ticks": "",
           "title": {
            "standoff": 15
           },
           "zerolinecolor": "white",
           "zerolinewidth": 2
          },
          "yaxis": {
           "automargin": true,
           "gridcolor": "white",
           "linecolor": "white",
           "ticks": "",
           "title": {
            "standoff": 15
           },
           "zerolinecolor": "white",
           "zerolinewidth": 2
          }
         }
        },
        "title": {
         "text": "Воронка покупок пользователей"
        },
        "xaxis": {
         "autorange": true,
         "range": [
          -5500,
          5500
         ],
         "type": "linear"
        },
        "yaxis": {
         "autorange": true,
         "range": [
          7.5,
          -0.5
         ],
         "type": "category"
        }
       }
      },
      "image/png": "[encoded data removed]",
      "text/html": [
       "<div>                            <div id=\"80a57a60-269e-40c5-9d63-668881e61fb0\" class=\"plotly-graph-div\" style=\"height:525px; width:100%;\"></div>            <script type=\"text/javascript\">                require([\"plotly\"], function(Plotly) {                    window.PLOTLYENV=window.PLOTLYENV || {};                                    if (document.getElementById(\"80a57a60-269e-40c5-9d63-668881e61fb0\")) {                    Plotly.newPlot(                        \"80a57a60-269e-40c5-9d63-668881e61fb0\",                        [{\"textfont\":{\"color\":\"black\",\"family\":\"Arial\",\"size\":10000},\"textinfo\":\"value+percent previous\",\"x\":[9900,9848,8602,5446,2587,1229,576,198],\"y\":[\"1-\\u044f \\u043f\\u043e\\u043a\\u0443\\u043f\\u043a\\u0430\",\"6-\\u044f \\u043f\\u043e\\u043a\\u0443\\u043f\\u043a\\u0430\",\"11-\\u044f \\u043f\\u043e\\u043a\\u0443\\u043f\\u043a\\u0430\",\"16-\\u044f \\u043f\\u043e\\u043a\\u0443\\u043f\\u043a\\u0430\",\"21-\\u044f \\u043f\\u043e\\u043a\\u0443\\u043f\\u043a\\u0430\",\"26-\\u044f \\u043f\\u043e\\u043a\\u0443\\u043f\\u043a\\u0430\",\"31-\\u044f \\u043f\\u043e\\u043a\\u0443\\u043f\\u043a\\u0430\",\"36-\\u044f \\u043f\\u043e\\u043a\\u0443\\u043f\\u043a\\u0430\"],\"type\":\"funnel\"}],                        {\"template\":{\"data\":{\"histogram2dcontour\":[{\"type\":\"histogram2dcontour\",\"colorbar\":{\"outlinewidth\":0,\"ticks\":\"\"},\"colorscale\":[[0.0,\"#0d0887\"],[0.1111111111111111,\"#46039f\"],[0.2222222222222222,\"#7201a8\"],[0.3333333333333333,\"#9c179e\"],[0.4444444444444444,\"#bd3786\"],[0.5555555555555556,\"#d8576b\"],[0.6666666666666666,\"#ed7953\"],[0.7777777777777778,\"#fb9f3a\"],[0.8888888888888888,\"#fdca26\"],[1.0,\"#f0f921\"]]}],\"choropleth\":[{\"type\":\"choropleth\",\"colorbar\":{\"outlinewidth\":0,\"ticks\":\"\"}}],\"histogram2d\":[{\"type\":\"histogram2d\",\"colorbar\":{\"outlinewidth\":0,\"ticks\":\"\"},\"colorscale\":[[0.0,\"#0d0887\"],[0.1111111111111111,\"#46039f\"],[0.2222222222222222,\"#7201a8\"],[0.3333333333333333,\"#9c179e\"],[0.4444444444444444,\"#bd3786\"],[0.5555555555555556,\"#d8576b\"],[0.6666666666666666,\"#ed7953\"],[0.7777777777777778,\"#fb9f3a\"],[0.8888888888888888,\"#fdca26\"],[1.0,\"#f0f921\"]]}],\"heatmap\":[{\"type\":\"heatmap\",\"colorbar\":{\"outlinewidth\":0,\"ticks\":\"\"},\"colorscale\":[[0.0,\"#0d0887\"],[0.1111111111111111,\"#46039f\"],[0.2222222222222222,\"#7201a8\"],[0.3333333333333333,\"#9c179e\"],[0.4444444444444444,\"#bd3786\"],[0.5555555555555556,\"#d8576b\"],[0.6666666666666666,\"#ed7953\"],[0.7777777777777778,\"#fb9f3a\"],[0.8888888888888888,\"#fdca26\"],[1.0,\"#f0f921\"]]}],\"heatmapgl\":[{\"type\":\"heatmapgl\",\"colorbar\":{\"outlinewidth\":0,\"ticks\":\"\"},\"colorscale\":[[0.0,\"#0d0887\"],[0.1111111111111111,\"#46039f\"],[0.2222222222222222,\"#7201a8\"],[0.3333333333333333,\"#9c179e\"],[0.4444444444444444,\"#bd3786\"],[0.5555555555555556,\"#d8576b\"],[0.6666666666666666,\"#ed7953\"],[0.7777777777777778,\"#fb9f3a\"],[0.8888888888888888,\"#fdca26\"],[1.0,\"#f0f921\"]]}],\"contourcarpet\":[{\"type\":\"contourcarpet\",\"colorbar\":{\"outlinewidth\":0,\"ticks\":\"\"}}],\"contour\":[{\"type\":\"contour\",\"colorbar\":{\"outlinewidth\":0,\"ticks\":\"\"},\"colorscale\":[[0.0,\"#0d0887\"],[0.1111111111111111,\"#46039f\"],[0.2222222222222222,\"#7201a8\"],[0.3333333333333333,\"#9c179e\"],[0.4444444444444444,\"#bd3786\"],[0.5555555555555556,\"#d8576b\"],[0.6666666666666666,\"#ed7953\"],[0.7777777777777778,\"#fb9f3a\"],[0.8888888888888888,\"#fdca26\"],[1.0,\"#f0f921\"]]}],\"surface\":[{\"type\":\"surface\",\"colorbar\":{\"outlinewidth\":0,\"ticks\":\"\"},\"colorscale\":[[0.0,\"#0d0887\"],[0.1111111111111111,\"#46039f\"],[0.2222222222222222,\"#7201a8\"],[0.3333333333333333,\"#9c179e\"],[0.4444444444444444,\"#bd3786\"],[0.5555555555555556,\"#d8576b\"],[0.6666666666666666,\"#ed7953\"],[0.7777777777777778,\"#fb9f3a\"],[0.8888888888888888,\"#fdca26\"],[1.0,\"#f0f921\"]]}],\"mesh3d\":[{\"type\":\"mesh3d\",\"colorbar\":{\"outlinewidth\":0,\"ticks\":\"\"}}],\"scatter\":[{\"fillpattern\":{\"fillmode\":\"overlay\",\"size\":10,\"solidity\":0.2},\"type\":\"scatter\"}],\"parcoords\":[{\"type\":\"parcoords\",\"line\":{\"colorbar\":{\"outlinewidth\":0,\"ticks\":\"\"}}}],\"scatterpolargl\":[{\"type\":\"scatterpolargl\",\"marker\":{\"colorbar\":{\"outlinewidth\":0,\"ticks\":\"\"}}}],\"bar\":[{\"error_x\":{\"color\":\"#2a3f5f\"},\"error_y\":{\"color\":\"#2a3f5f\"},\"marker\":{\"line\":{\"color\":\"#E5ECF6\",\"width\":0.5},\"pattern\":{\"fillmode\":\"overlay\",\"size\":10,\"solidity\":0.2}},\"type\":\"bar\"}],\"scattergeo\":[{\"type\":\"scattergeo\",\"marker\":{\"colorbar\":{\"outlinewidth\":0,\"ticks\":\"\"}}}],\"scatterpolar\":[{\"type\":\"scatterpolar\",\"marker\":{\"colorbar\":{\"outlinewidth\":0,\"ticks\":\"\"}}}],\"histogram\":[{\"marker\":{\"pattern\":{\"fillmode\":\"overlay\",\"size\":10,\"solidity\":0.2}},\"type\":\"histogram\"}],\"scattergl\":[{\"type\":\"scattergl\",\"marker\":{\"colorbar\":{\"outlinewidth\":0,\"ticks\":\"\"}}}],\"scatter3d\":[{\"type\":\"scatter3d\",\"line\":{\"colorbar\":{\"outlinewidth\":0,\"ticks\":\"\"}},\"marker\":{\"colorbar\":{\"outlinewidth\":0,\"ticks\":\"\"}}}],\"scattermapbox\":[{\"type\":\"scattermapbox\",\"marker\":{\"colorbar\":{\"outlinewidth\":0,\"ticks\":\"\"}}}],\"scatterternary\":[{\"type\":\"scatterternary\",\"marker\":{\"colorbar\":{\"outlinewidth\":0,\"ticks\":\"\"}}}],\"scattercarpet\":[{\"type\":\"scattercarpet\",\"marker\":{\"colorbar\":{\"outlinewidth\":0,\"ticks\":\"\"}}}],\"carpet\":[{\"aaxis\":{\"endlinecolor\":\"#2a3f5f\",\"gridcolor\":\"white\",\"linecolor\":\"white\",\"minorgridcolor\":\"white\",\"startlinecolor\":\"#2a3f5f\"},\"baxis\":{\"endlinecolor\":\"#2a3f5f\",\"gridcolor\":\"white\",\"linecolor\":\"white\",\"minorgridcolor\":\"white\",\"startlinecolor\":\"#2a3f5f\"},\"type\":\"carpet\"}],\"table\":[{\"cells\":{\"fill\":{\"color\":\"#EBF0F8\"},\"line\":{\"color\":\"white\"}},\"header\":{\"fill\":{\"color\":\"#C8D4E3\"},\"line\":{\"color\":\"white\"}},\"type\":\"table\"}],\"barpolar\":[{\"marker\":{\"line\":{\"color\":\"#E5ECF6\",\"width\":0.5},\"pattern\":{\"fillmode\":\"overlay\",\"size\":10,\"solidity\":0.2}},\"type\":\"barpolar\"}],\"pie\":[{\"automargin\":true,\"type\":\"pie\"}]},\"layout\":{\"autotypenumbers\":\"strict\",\"colorway\":[\"#636efa\",\"#EF553B\",\"#00cc96\",\"#ab63fa\",\"#FFA15A\",\"#19d3f3\",\"#FF6692\",\"#B6E880\",\"#FF97FF\",\"#FECB52\"],\"font\":{\"color\":\"#2a3f5f\"},\"hovermode\":\"closest\",\"hoverlabel\":{\"align\":\"left\"},\"paper_bgcolor\":\"white\",\"plot_bgcolor\":\"#E5ECF6\",\"polar\":{\"bgcolor\":\"#E5ECF6\",\"angularaxis\":{\"gridcolor\":\"white\",\"linecolor\":\"white\",\"ticks\":\"\"},\"radialaxis\":{\"gridcolor\":\"white\",\"linecolor\":\"white\",\"ticks\":\"\"}},\"ternary\":{\"bgcolor\":\"#E5ECF6\",\"aaxis\":{\"gridcolor\":\"white\",\"linecolor\":\"white\",\"ticks\":\"\"},\"baxis\":{\"gridcolor\":\"white\",\"linecolor\":\"white\",\"ticks\":\"\"},\"caxis\":{\"gridcolor\":\"white\",\"linecolor\":\"white\",\"ticks\":\"\"}},\"coloraxis\":{\"colorbar\":{\"outlinewidth\":0,\"ticks\":\"\"}},\"colorscale\":{\"sequential\":[[0.0,\"#0d0887\"],[0.1111111111111111,\"#46039f\"],[0.2222222222222222,\"#7201a8\"],[0.3333333333333333,\"#9c179e\"],[0.4444444444444444,\"#bd3786\"],[0.5555555555555556,\"#d8576b\"],[0.6666666666666666,\"#ed7953\"],[0.7777777777777778,\"#fb9f3a\"],[0.8888888888888888,\"#fdca26\"],[1.0,\"#f0f921\"]],\"sequentialminus\":[[0.0,\"#0d0887\"],[0.1111111111111111,\"#46039f\"],[0.2222222222222222,\"#7201a8\"],[0.3333333333333333,\"#9c179e\"],[0.4444444444444444,\"#bd3786\"],[0.5555555555555556,\"#d8576b\"],[0.6666666666666666,\"#ed7953\"],[0.7777777777777778,\"#fb9f3a\"],[0.8888888888888888,\"#fdca26\"],[1.0,\"#f0f921\"]],\"diverging\":[[0,\"#8e0152\"],[0.1,\"#c51b7d\"],[0.2,\"#de77ae\"],[0.3,\"#f1b6da\"],[0.4,\"#fde0ef\"],[0.5,\"#f7f7f7\"],[0.6,\"#e6f5d0\"],[0.7,\"#b8e186\"],[0.8,\"#7fbc41\"],[0.9,\"#4d9221\"],[1,\"#276419\"]]},\"xaxis\":{\"gridcolor\":\"white\",\"linecolor\":\"white\",\"ticks\":\"\",\"title\":{\"standoff\":15},\"zerolinecolor\":\"white\",\"automargin\":true,\"zerolinewidth\":2},\"yaxis\":{\"gridcolor\":\"white\",\"linecolor\":\"white\",\"ticks\":\"\",\"title\":{\"standoff\":15},\"zerolinecolor\":\"white\",\"automargin\":true,\"zerolinewidth\":2},\"scene\":{\"xaxis\":{\"backgroundcolor\":\"#E5ECF6\",\"gridcolor\":\"white\",\"linecolor\":\"white\",\"showbackground\":true,\"ticks\":\"\",\"zerolinecolor\":\"white\",\"gridwidth\":2},\"yaxis\":{\"backgroundcolor\":\"#E5ECF6\",\"gridcolor\":\"white\",\"linecolor\":\"white\",\"showbackground\":true,\"ticks\":\"\",\"zerolinecolor\":\"white\",\"gridwidth\":2},\"zaxis\":{\"backgroundcolor\":\"#E5ECF6\",\"gridcolor\":\"white\",\"linecolor\":\"white\",\"showbackground\":true,\"ticks\":\"\",\"zerolinecolor\":\"white\",\"gridwidth\":2}},\"shapedefaults\":{\"line\":{\"color\":\"#2a3f5f\"}},\"annotationdefaults\":{\"arrowcolor\":\"#2a3f5f\",\"arrowhead\":0,\"arrowwidth\":1},\"geo\":{\"bgcolor\":\"white\",\"landcolor\":\"#E5ECF6\",\"subunitcolor\":\"white\",\"showland\":true,\"showlakes\":true,\"lakecolor\":\"white\"},\"title\":{\"x\":0.05},\"mapbox\":{\"style\":\"light\"}}},\"title\":{\"text\":\"\\u0412\\u043e\\u0440\\u043e\\u043d\\u043a\\u0430 \\u043f\\u043e\\u043a\\u0443\\u043f\\u043e\\u043a \\u043f\\u043e\\u043b\\u044c\\u0437\\u043e\\u0432\\u0430\\u0442\\u0435\\u043b\\u0435\\u0439\"},\"funnelmode\":\"stack\"},                        {\"responsive\": true}                    ).then(function(){\n",
       "                            \n",
       "var gd = document.getElementById('80a57a60-269e-40c5-9d63-668881e61fb0');\n",
       "var x = new MutationObserver(function (mutations, observer) {{\n",
       "        var display = window.getComputedStyle(gd).display;\n",
       "        if (!display || display === 'none') {{\n",
       "            console.log([gd, 'removed!']);\n",
       "            Plotly.purge(gd);\n",
       "            observer.disconnect();\n",
       "        }}\n",
       "}});\n",
       "\n",
       "// Listen for the removal of the full notebook cells\n",
       "var notebookContainer = gd.closest('#notebook-container');\n",
       "if (notebookContainer) {{\n",
       "    x.observe(notebookContainer, {childList: true});\n",
       "}}\n",
       "\n",
       "// Listen for the clearing of the current output cell\n",
       "var outputEl = gd.closest('.output');\n",
       "if (outputEl) {{\n",
       "    x.observe(outputEl, {childList: true});\n",
       "}}\n",
       "\n",
       "                        })                };                });            </script>        </div>"
      ]
     },
     "metadata": {},
     "output_type": "display_data"
    }
   ],
   "source": [
    "import plotly.graph_objects as go\n",
    "\n",
    "fig = go.Figure(go.Funnel(\n",
    "    y = table[:36:5].index,\n",
    "    x = table['Users'][:36:5],\n",
    "    textinfo = \"value+percent previous\",\n",
    "    textfont = dict(size=10000, family='Arial', color='black') \n",
    "))\n",
    "fig.update_layout(\n",
    "    title = \"Воронка покупок пользователей\",\n",
    "    funnelmode = \"stack\"\n",
    ")\n",
    "fig.show()"
   ]
  },
  {
   "cell_type": "markdown",
   "metadata": {
    "id": "krTSAS4ba6hg"
   },
   "source": [
    "ARPU (Average Revenue Per User) Средняя выручка на одного пользователя"
   ]
  },
  {
   "cell_type": "code",
   "execution_count": 211,
   "metadata": {
    "id": "cf1-X0tYcdbK"
   },
   "outputs": [
    {
     "data": {
      "text/plain": [
       "98752.32323232324"
      ]
     },
     "execution_count": 211,
     "metadata": {},
     "output_type": "execute_result"
    }
   ],
   "source": [
    "total_revenue = result_task_2['ORDER_REVENUE'].sum()  \n",
    "unique_users = result_task_2['USER_ID'].nunique()  \n",
    "\n",
    "arpu = total_revenue / unique_users  \n",
    "arpu"
   ]
  },
  {
   "cell_type": "markdown",
   "metadata": {
    "id": "9FEtoK8Md4ah"
   },
   "source": [
    "LTV"
   ]
  },
  {
   "cell_type": "code",
   "execution_count": 213,
   "metadata": {
    "id": "PnPDnU6nd3gW"
   },
   "outputs": [
    {
     "data": {
      "text/plain": [
       "1353981.13385981"
      ]
     },
     "execution_count": 213,
     "metadata": {},
     "output_type": "execute_result"
    }
   ],
   "source": [
    "result_task_2['ORDER_DATE'] = pd.to_datetime(result_task_2['ORDER_DATE'])\n",
    "\n",
    "user_lifetime = result_task_2.groupby('USER_ID')['ORDER_DATE'].agg(['min', 'max']).reset_index()\n",
    "user_lifetime['lifetime_days'] = (user_lifetime['max'] - user_lifetime['min']).dt.days\n",
    "user_lifetime['lifetime_months'] = user_lifetime['lifetime_days'] / 30  # Предполагаем 30 дней в месяце\n",
    "\n",
    "average_lifetime_months = user_lifetime['lifetime_months'].mean()\n",
    "ltv = arpu * average_lifetime_months\n",
    "ltv"
   ]
  },
  {
   "cell_type": "markdown",
   "metadata": {},
   "source": [
    "ROI"
   ]
  },
  {
   "cell_type": "code",
   "execution_count": 214,
   "metadata": {
    "id": "MXzYaAWnEYpi"
   },
   "outputs": [
    {
     "data": {
      "text/plain": [
       "36.930273768449545"
      ]
     },
     "execution_count": 214,
     "metadata": {},
     "output_type": "execute_result"
    }
   ],
   "source": [
    "df = result_task_2.copy()\n",
    "df['ORDER_DATE'] = pd.to_datetime(df['ORDER_DATE'])\n",
    "\n",
    "df['INVESTMENTS'] = df['ORDER_SUM'] - df['ORDER_REVENUE']\n",
    "roi = ((df['ORDER_SUM'].sum() - df['INVESTMENTS'].sum()) / df['INVESTMENTS'].sum()) * 100\n",
    "roi"
   ]
  },
  {
   "cell_type": "code",
   "execution_count": 215,
   "metadata": {},
   "outputs": [
    {
     "data": {
      "text/plain": [
       "count                         10000\n",
       "mean     1977-03-05 21:12:05.760000\n",
       "min             1950-01-04 00:00:00\n",
       "25%             1963-05-08 06:00:00\n",
       "50%             1977-03-13 00:00:00\n",
       "75%             1990-10-28 06:00:00\n",
       "max             2004-12-27 00:00:00\n",
       "Name: user_birthdate, dtype: object"
      ]
     },
     "execution_count": 215,
     "metadata": {},
     "output_type": "execute_result"
    }
   ],
   "source": [
    "df_user['user_birthdate'].describe()"
   ]
  },
  {
   "cell_type": "code",
   "execution_count": 216,
   "metadata": {},
   "outputs": [
    {
     "data": {
      "image/png": "[encoded data removed]",
      "text/plain": [
       "<Figure size 800x600 with 1 Axes>"
      ]
     },
     "metadata": {},
     "output_type": "display_data"
    }
   ],
   "source": [
    "df_user = user.copy()\n",
    "\n",
    "# Преобразуем столбец с датой рождения в формат datetime\n",
    "df_user['user_birthdate'] = pd.to_datetime(df_user['user_birthdate'])\n",
    "\n",
    "# Вычисляем возраст каждого пользователя\n",
    "current_year = 2024\n",
    "df_user['age'] = current_year - df_user['user_birthdate'].dt.year\n",
    "\n",
    "# Построение гистограммы возрастов пользователей\n",
    "plt.figure(figsize=(8, 6))\n",
    "plt.hist(df_user['age'], bins=55, edgecolor='black')\n",
    "plt.title('Распределение возрастов пользователей')\n",
    "plt.xlabel('Возраст')\n",
    "plt.ylabel('Число пользователей')\n",
    "plt.grid(True)\n",
    "\n",
    "plt.show()"
   ]
  },
  {
   "cell_type": "code",
   "execution_count": 217,
   "metadata": {},
   "outputs": [
    {
     "data": {
      "image/png": "[encoded data removed]",
      "text/plain": [
       "<Figure size 1000x600 with 1 Axes>"
      ]
     },
     "metadata": {},
     "output_type": "display_data"
    }
   ],
   "source": [
    "df = pd.DataFrame(store)\n",
    "df['store_open_date'] = pd.to_datetime(df['store_open_date'])\n",
    "df['store_close_date'] = pd.to_datetime(df['store_close_date'])\n",
    "time_series = pd.date_range(start=df['store_open_date'].min(), end=pd.Timestamp('2023-12-31'), freq='D')\n",
    "working_stores = []\n",
    "\n",
    "for date in time_series:\n",
    "    num_open_stores = ((date >= df['store_open_date']) & ((df['store_close_date'].isnull()) | (date <= df['store_close_date']))).sum()\n",
    "    working_stores.append(num_open_stores)\n",
    "\n",
    "plt.figure(figsize=(10, 6))\n",
    "plt.plot(time_series, working_stores, linestyle='-', color='b')\n",
    "plt.title('Количество работающих магазинов по времени')\n",
    "plt.xlabel('Дата')\n",
    "plt.ylabel('Количество работающих магазинов')\n",
    "plt.grid(True)\n",
    "plt.xticks(rotation=45)\n",
    "plt.tight_layout()\n",
    "plt.show()"
   ]
  },
  {
   "cell_type": "markdown",
   "metadata": {
    "id": "zUjYkKr1Hi5f"
   },
   "source": [
    "## 3.2"
   ]
  },
  {
   "cell_type": "markdown",
   "metadata": {
    "id": "-27EjkjSOUnK"
   },
   "source": [
    "Для определения запаса товаров в магазине предлагается следующий подход. Сначала мы вычисляем среднее количество проданных товаров за те месяцы, в которые был продан хотя бы один экземпляр этого товара. Затем к каждому возможному товару (с учетом его названия, формы и размера, и магазина) добавляем 44 единицы. Почему 44? Потому что это медианное количество проданных товаров для каждого товара, который был продан хотя бы один раз в соответствующем магазине. Таким образом, мы учтем как товары, которые не продавались из-за отсутствия в наличии, так и создадим дополнительный запас. Далее отдельно учитываем магазины Republica и City Mall, данные для которых аномальны. Им проставим дял каждого товара средние значения по остальным магазинам."
   ]
  },
  {
   "cell_type": "markdown",
   "metadata": {
    "id": "bgtIwZusLbYu"
   },
   "source": [
    "### Вычисления"
   ]
  },
  {
   "cell_type": "code",
   "execution_count": 218,
   "metadata": {
    "colab": {
     "base_uri": "https://localhost:8080/",
     "height": 211
    },
    "id": "5pzUv47KnqaE",
    "outputId": "84e06588-50c7-4b53-ef29-b6bb14ee7bde"
   },
   "outputs": [
    {
     "data": {
      "text/html": [
       "<div>\n",
       "<style scoped>\n",
       "    .dataframe tbody tr th:only-of-type {\n",
       "        vertical-align: middle;\n",
       "    }\n",
       "\n",
       "    .dataframe tbody tr th {\n",
       "        vertical-align: top;\n",
       "    }\n",
       "\n",
       "    .dataframe thead th {\n",
       "        text-align: right;\n",
       "    }\n",
       "</style>\n",
       "<table border=\"1\" class=\"dataframe\">\n",
       "  <thead>\n",
       "    <tr style=\"text-align: right;\">\n",
       "      <th></th>\n",
       "      <th>store_name</th>\n",
       "      <th>product_name</th>\n",
       "      <th>product_size</th>\n",
       "      <th>product_color</th>\n",
       "      <th>month</th>\n",
       "      <th>count</th>\n",
       "    </tr>\n",
       "  </thead>\n",
       "  <tbody>\n",
       "    <tr>\n",
       "      <th>343271</th>\n",
       "      <td>Tsvetnoy</td>\n",
       "      <td>Zenith Zephyr Zip-Up</td>\n",
       "      <td>XXL</td>\n",
       "      <td>Yellow</td>\n",
       "      <td>6</td>\n",
       "      <td>224</td>\n",
       "    </tr>\n",
       "    <tr>\n",
       "      <th>343272</th>\n",
       "      <td>Tsvetnoy</td>\n",
       "      <td>Zenith Zephyr Zip-Up</td>\n",
       "      <td>XXL</td>\n",
       "      <td>Yellow</td>\n",
       "      <td>7</td>\n",
       "      <td>13</td>\n",
       "    </tr>\n",
       "    <tr>\n",
       "      <th>343273</th>\n",
       "      <td>Tsvetnoy</td>\n",
       "      <td>Zenith Zephyr Zip-Up</td>\n",
       "      <td>XXL</td>\n",
       "      <td>Yellow</td>\n",
       "      <td>8</td>\n",
       "      <td>17</td>\n",
       "    </tr>\n",
       "    <tr>\n",
       "      <th>343274</th>\n",
       "      <td>Tsvetnoy</td>\n",
       "      <td>Zenith Zephyr Zip-Up</td>\n",
       "      <td>XXL</td>\n",
       "      <td>Yellow</td>\n",
       "      <td>9</td>\n",
       "      <td>5</td>\n",
       "    </tr>\n",
       "    <tr>\n",
       "      <th>343275</th>\n",
       "      <td>Tsvetnoy</td>\n",
       "      <td>Zenith Zephyr Zip-Up</td>\n",
       "      <td>XXL</td>\n",
       "      <td>Yellow</td>\n",
       "      <td>10</td>\n",
       "      <td>5</td>\n",
       "    </tr>\n",
       "  </tbody>\n",
       "</table>\n",
       "</div>"
      ],
      "text/plain": [
       "       store_name          product_name product_size product_color  month  \\\n",
       "343271   Tsvetnoy  Zenith Zephyr Zip-Up          XXL        Yellow      6   \n",
       "343272   Tsvetnoy  Zenith Zephyr Zip-Up          XXL        Yellow      7   \n",
       "343273   Tsvetnoy  Zenith Zephyr Zip-Up          XXL        Yellow      8   \n",
       "343274   Tsvetnoy  Zenith Zephyr Zip-Up          XXL        Yellow      9   \n",
       "343275   Tsvetnoy  Zenith Zephyr Zip-Up          XXL        Yellow     10   \n",
       "\n",
       "        count  \n",
       "343271    224  \n",
       "343272     13  \n",
       "343273     17  \n",
       "343274      5  \n",
       "343275      5  "
      ]
     },
     "execution_count": 218,
     "metadata": {},
     "output_type": "execute_result"
    }
   ],
   "source": [
    "import json\n",
    "sales_filtered = sales[(sales['is_accepted'] == True) & (sales['is_canceled'] == False)]\n",
    "merged_data = pd.merge(orders, sales_filtered, on='order_id', how='inner')\n",
    "\n",
    "def parse_product_info(product_info_str):\n",
    "    if isinstance(product_info_str, str):\n",
    "        product_info_str = product_info_str.replace(\"'\", '\"')\n",
    "        product_info_str = product_info_str.replace('True', 'true').replace('False', 'false')\n",
    "        try:\n",
    "            return json.loads(product_info_str)\n",
    "        except json.JSONDecodeError:\n",
    "            return []\n",
    "    return []\n",
    "merged_data['product_info'] = merged_data['product_info'].apply(parse_product_info)\n",
    "\n",
    "merged_data['order_date'] = pd.to_datetime(merged_data['order_date'])\n",
    "merged_data['month'] = merged_data['order_date'].dt.month\n",
    "\n",
    "exploded_data = merged_data.explode('product_info')\n",
    "exploded_data = exploded_data.reset_index(drop=True)\n",
    "product_details = pd.json_normalize(exploded_data['product_info'])\n",
    "product_details = product_details[product_details['product_id'].notna()]\n",
    "\n",
    "for column in product_details.columns:\n",
    "  exploded_data[column] = product_details[column]\n",
    "\n",
    "final_data = pd.merge(exploded_data, product, on='product_id', how='left')\n",
    "final_data = pd.merge(final_data, store, on='store_id', how='left')\n",
    "result = final_data.groupby(['store_name', 'product_name', 'product_size', 'product_color', 'month'])['count'].sum().reset_index()\n",
    "result.tail()"
   ]
  },
  {
   "cell_type": "code",
   "execution_count": null,
   "metadata": {
    "id": "OmoKqm1NBgYk"
   },
   "outputs": [],
   "source": [
    "result1 = result.groupby(['store_name', 'product_name', 'product_size', 'product_color'])['count'].mean().reset_index()\n",
    "result1.tail()"
   ]
  },
  {
   "cell_type": "code",
   "execution_count": null,
   "metadata": {
    "id": "whJzyWJP0RaL"
   },
   "outputs": [],
   "source": [
    "result1.describe()"
   ]
  },
  {
   "cell_type": "code",
   "execution_count": null,
   "metadata": {
    "id": "OZXmRDjj_lmJ"
   },
   "outputs": [],
   "source": [
    "all_products_shops = product.merge(store['store_name'], how='cross')\n",
    "all_products_shops.drop(columns=['product_id'], inplace=True, errors='ignore')\n",
    "all_products_shops['count'] = result1['count'].median()\n",
    "all_products_shops.tail()"
   ]
  },
  {
   "cell_type": "code",
   "execution_count": null,
   "metadata": {
    "id": "HlfNa69IF-if"
   },
   "outputs": [],
   "source": [
    "answer = pd.concat([all_products_shops, result1]).groupby(['store_name', 'product_name', 'product_size', 'product_color'], as_index=False)['count'].sum()\n",
    "answer['count'] = answer['count'].astype(int)\n",
    "answer.tail()"
   ]
  },
  {
   "cell_type": "markdown",
   "metadata": {},
   "source": [
    "Теперь отдельно учтем магазины Republica и City Mall"
   ]
  },
  {
   "cell_type": "code",
   "execution_count": null,
   "metadata": {},
   "outputs": [],
   "source": [
    "df_copy = answer.copy()\n",
    "mask = answer['store_name'].isin(['Republica', 'City Mall'])\n",
    "df_filtered = answer[mask]\n",
    "df_rest = answer[~mask]\n",
    "mean_values = df_rest.groupby(['product_name', 'product_size', 'product_color'])['count'].mean().reset_index()\n",
    "mean_values.rename(columns={'count': 'mean_count'}, inplace=True)\n",
    "df_merged = pd.merge(df_filtered, mean_values, on=['product_name', 'product_size', 'product_color'], how='left')\n",
    "df_merged['count'] = df_merged['mean_count']\n",
    "df_merged.drop(columns=['mean_count'], inplace=True)\n",
    "df_copy.update(df_merged)\n",
    "\n",
    "df_copy['count'] = df_copy['count'].astype(int)\n",
    "answer = df_copy\n",
    "answer.tail()"
   ]
  },
  {
   "cell_type": "code",
   "execution_count": null,
   "metadata": {
    "id": "VZVXMuLzJFfY"
   },
   "outputs": [],
   "source": [
    "answer.describe()"
   ]
  },
  {
   "cell_type": "markdown",
   "metadata": {
    "id": "C7wIV4YzLX4k"
   },
   "source": [
    "### Пример использования"
   ]
  },
  {
   "cell_type": "code",
   "execution_count": null,
   "metadata": {
    "id": "HIpoxAA5LaQz"
   },
   "outputs": [],
   "source": [
    "answer.tail()"
   ]
  },
  {
   "cell_type": "markdown",
   "metadata": {
    "id": "U2FaLpyeLmEw"
   },
   "source": [
    "Пусть мы хотим получить список товаров для магазина Aviapark."
   ]
  },
  {
   "cell_type": "code",
   "execution_count": null,
   "metadata": {
    "id": "JXNwM7JmLkwc"
   },
   "outputs": [],
   "source": [
    "aviapark_store = answer[answer['store_name'] == 'Aviapark']\n",
    "aviapark_store = aviapark_store.drop(columns=['store_name'])\n",
    "aviapark_store.to_csv('aviapark.csv', index=False)\n",
    "print(\"Файл сохранен: aviapark.csv\")\n",
    "aviapark_store.tail()"
   ]
  },
  {
   "cell_type": "code",
   "execution_count": null,
   "metadata": {},
   "outputs": [],
   "source": []
  }
 ],
 "metadata": {
  "colab": {
   "collapsed_sections": [
    "ixc3q-7yHf_v"
   ],
   "provenance": []
  },
  "kernelspec": {
   "display_name": "Python 3 (ipykernel)",
   "language": "python",
   "name": "python3"
  },
  "language_info": {
   "codemirror_mode": {
    "name": "ipython",
    "version": 3
   },
   "file_extension": ".py",
   "mimetype": "text/x-python",
   "name": "python",
   "nbconvert_exporter": "python",
   "pygments_lexer": "ipython3",
   "version": "3.11.7"
  }
 },
 "nbformat": 4,
 "nbformat_minor": 4
}
